{
 "cells": [
  {
   "cell_type": "markdown",
   "id": "fd99fb02",
   "metadata": {},
   "source": [
    "**Task 1**:\n",
    "1. Load the file 'about_python.txt'into your jupyter notebook.\n",
    "    a. Correct wrong statements about python fatures\n",
    "    b. How many charactaers present in the data\n",
    "    c. How many times 'Python' word is repeated.\n",
    "    d. after correcting all ..print complete valid features of the python.\n",
    "    \n",
    "**Task2**:\n",
    "\n",
    "2. Create a file 'File.txt'which expalains python handling whatever you have learnt today(creating,reading,wring and appending...etc) in detail.That reaload the saved file(i.e File.txt) to jupyter notebook."
   ]
  },
  {
   "cell_type": "code",
   "execution_count": 155,
   "id": "45868a24",
   "metadata": {},
   "outputs": [],
   "source": [
    "file = open(r\"C:\\Users\\heena\\Downloads\\about_python (1).txt\")"
   ]
  },
  {
   "cell_type": "code",
   "execution_count": 156,
   "id": "4acfcddb",
   "metadata": {},
   "outputs": [],
   "source": [
    "h = file.read()"
   ]
  },
  {
   "cell_type": "code",
   "execution_count": 157,
   "id": "90a78ceb",
   "metadata": {},
   "outputs": [
    {
     "data": {
      "text/plain": [
       "'Python supports object-oriented programming (OOP) concepts.\\nPython is a compiled language.\\nPython has a rich ecosystem of third-party libraries.\\nPython is a paid programming language\\nPython uses indentation for code block structuring.\\nPython is statically Typed Language\\nPython only supports double quotes for string literals.\\nPython can only be used for web development.\\nPython was created by Elon Musk.'"
      ]
     },
     "execution_count": 157,
     "metadata": {},
     "output_type": "execute_result"
    }
   ],
   "source": [
    "h\n"
   ]
  },
  {
   "cell_type": "code",
   "execution_count": 161,
   "id": "0fe958d7",
   "metadata": {},
   "outputs": [],
   "source": [
    "h1 = h.replace(\"compiled\",\"interpreted\")\n",
    "h2 = h1.replace(\"paid\",\"open source\")\n",
    "h3 = h2.replace(\"only supports\",\"supports single double\")\n",
    "h4 = h3.replace(\"can only be\",\"data science  data analysis\")\n",
    "h5 = h4.replace(\"Elon Musk\",\"guido van rossum\")"
   ]
  },
  {
   "cell_type": "code",
   "execution_count": 162,
   "id": "b3ab9257",
   "metadata": {},
   "outputs": [
    {
     "name": "stdout",
     "output_type": "stream",
     "text": [
      "Python supports object-oriented programming (OOP) concepts.\n",
      "Python is a interpreted language.\n",
      "Python has a rich ecosystem of third-party libraries.\n",
      "Python is a open source programming language\n",
      "Python uses indentation for code block structuring.\n",
      "Python is statically Typed Language\n",
      "Python supports single double double quotes for string literals.\n",
      "Python data science  data analysis used for web development.\n",
      "Python was created by guido van rossum.\n"
     ]
    }
   ],
   "source": [
    "print(h5)"
   ]
  },
  {
   "cell_type": "code",
   "execution_count": 160,
   "id": "6a569da9",
   "metadata": {},
   "outputs": [
    {
     "data": {
      "text/plain": [
       "412"
      ]
     },
     "execution_count": 160,
     "metadata": {},
     "output_type": "execute_result"
    }
   ],
   "source": [
    "file.tell()"
   ]
  },
  {
   "cell_type": "code",
   "execution_count": 146,
   "id": "c9934aa5",
   "metadata": {},
   "outputs": [
    {
     "data": {
      "text/plain": [
       "9"
      ]
     },
     "execution_count": 146,
     "metadata": {},
     "output_type": "execute_result"
    }
   ],
   "source": [
    "h.count(\"Python\")"
   ]
  },
  {
   "cell_type": "markdown",
   "id": "6911e49f",
   "metadata": {},
   "source": [
    "Create a file 'File.txt'which expalains python handling whatever you have learnt today(creating,reading,wring and appending...etc) in detail.That reaload the saved file(i.e File.txt) to jupyter notebook."
   ]
  },
  {
   "cell_type": "code",
   "execution_count": 8,
   "id": "3461eee2",
   "metadata": {},
   "outputs": [],
   "source": [
    "file = open('create.txt','x')"
   ]
  },
  {
   "cell_type": "code",
   "execution_count": 9,
   "id": "da231307",
   "metadata": {},
   "outputs": [
    {
     "data": {
      "text/plain": [
       "224"
      ]
     },
     "execution_count": 9,
     "metadata": {},
     "output_type": "execute_result"
    }
   ],
   "source": [
    "file.write(\"file handling\\nfile means an folder contain some information\\ncreation using manual file creation\\nusingwrite create open function in file handling\\nfile opening\\nread file\\nwrite\\nappend\\nwe use string manipulation in file handling\")"
   ]
  },
  {
   "cell_type": "code",
   "execution_count": 14,
   "id": "c9428575",
   "metadata": {},
   "outputs": [],
   "source": [
    "file = open('create.txt','r')"
   ]
  },
  {
   "cell_type": "code",
   "execution_count": 15,
   "id": "f7294756",
   "metadata": {},
   "outputs": [
    {
     "name": "stdout",
     "output_type": "stream",
     "text": [
      "file handling\n",
      "file means an folder contain some information\n",
      "creation using manual file creation\n",
      "usingwrite create open function in file handling\n",
      "file opening\n",
      "read file\n",
      "write\n",
      "append\n",
      "we use string manipulation in file handling\n"
     ]
    }
   ],
   "source": [
    "print(file.read())"
   ]
  },
  {
   "cell_type": "code",
   "execution_count": null,
   "id": "3bfdda2a",
   "metadata": {},
   "outputs": [],
   "source": []
  }
 ],
 "metadata": {
  "kernelspec": {
   "display_name": "Python 3 (ipykernel)",
   "language": "python",
   "name": "python3"
  },
  "language_info": {
   "codemirror_mode": {
    "name": "ipython",
    "version": 3
   },
   "file_extension": ".py",
   "mimetype": "text/x-python",
   "name": "python",
   "nbconvert_exporter": "python",
   "pygments_lexer": "ipython3",
   "version": "3.11.4"
  }
 },
 "nbformat": 4,
 "nbformat_minor": 5
}
