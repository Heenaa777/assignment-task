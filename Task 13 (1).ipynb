{
 "cells": [
  {
   "cell_type": "markdown",
   "id": "89ffda57",
   "metadata": {},
   "source": [
    "1. Write a function called \"add_numbers\" that takes two integers as input and returns their sum.\n",
    "\n",
    "2. Write a function called \"multiply_numbers\" that takes two integers as input and returns their product.\n",
    "\n",
    "3. Write a function called \"calculate_average\" that takes a list of numbers as input and returns the average of thosenumbers.\n",
    "\n",
    "4. Write a function called \"is_even\" that takes an integer as input and returns True if the number is even, and False otherwise.\n",
    "\n",
    "5. Write a function called \"reverse_string\" that takes a string as input and returns the reverse of that string.\n",
    "\n",
    "6. Write a function called \"count_vowels\" that takes a string as input and returns the number of vowels (a, e, i, o, u) in that string.\n",
    "\n",
    "7. Write a function called \"find_max\" that takes a list of numbers as input and returns the maximum value in that list.\n",
    "\n",
    "8. Write a function called \"find_min\" that takes a list of numbers as input and returns the minimum value in that list."
   ]
  },
  {
   "cell_type": "markdown",
   "id": "4f281253",
   "metadata": {},
   "source": [
    "Write a function called \"add_numbers\" that takes two integers as input and returns "
   ]
  },
  {
   "cell_type": "code",
   "execution_count": 1,
   "id": "f8821307",
   "metadata": {},
   "outputs": [],
   "source": [
    "def add_numbers(a,b):\n",
    "    print(a+b)"
   ]
  },
  {
   "cell_type": "code",
   "execution_count": 3,
   "id": "25ab3fcf",
   "metadata": {},
   "outputs": [
    {
     "name": "stdout",
     "output_type": "stream",
     "text": [
      "13\n"
     ]
    }
   ],
   "source": [
    "add_numbers(6,7)"
   ]
  },
  {
   "cell_type": "markdown",
   "id": "4a393169",
   "metadata": {},
   "source": [
    "Write a function called \"multiply_numbers\" that takes two integers as input and returns their product.\n"
   ]
  },
  {
   "cell_type": "code",
   "execution_count": 6,
   "id": "959a13ba",
   "metadata": {},
   "outputs": [],
   "source": [
    "def multiply_numbers(a,b):\n",
    "    return(a*b)"
   ]
  },
  {
   "cell_type": "code",
   "execution_count": 7,
   "id": "1e427820",
   "metadata": {},
   "outputs": [
    {
     "data": {
      "text/plain": [
       "42"
      ]
     },
     "execution_count": 7,
     "metadata": {},
     "output_type": "execute_result"
    }
   ],
   "source": [
    "multiply_numbers(6,7)"
   ]
  },
  {
   "cell_type": "markdown",
   "id": "a99df3b5",
   "metadata": {},
   "source": [
    "Write a function called \"calculate_average\" that takes a list of numbers as input and returns the average of thosenumbers.\n"
   ]
  },
  {
   "cell_type": "code",
   "execution_count": 19,
   "id": "a19c9f0a",
   "metadata": {},
   "outputs": [],
   "source": [
    "def calculate_average():\n",
    "    return(sum(values)/len(values))"
   ]
  },
  {
   "cell_type": "code",
   "execution_count": 20,
   "id": "57a54567",
   "metadata": {},
   "outputs": [],
   "source": [
    "values = [3,7,7,8]"
   ]
  },
  {
   "cell_type": "code",
   "execution_count": 21,
   "id": "bcf0240d",
   "metadata": {},
   "outputs": [
    {
     "data": {
      "text/plain": [
       "25"
      ]
     },
     "execution_count": 21,
     "metadata": {},
     "output_type": "execute_result"
    }
   ],
   "source": [
    "sum(values)"
   ]
  },
  {
   "cell_type": "code",
   "execution_count": 22,
   "id": "12cbeaf2",
   "metadata": {},
   "outputs": [
    {
     "data": {
      "text/plain": [
       "4"
      ]
     },
     "execution_count": 22,
     "metadata": {},
     "output_type": "execute_result"
    }
   ],
   "source": [
    "len(values)"
   ]
  },
  {
   "cell_type": "code",
   "execution_count": 14,
   "id": "b4ac208c",
   "metadata": {},
   "outputs": [
    {
     "name": "stdout",
     "output_type": "stream",
     "text": [
      "6.25\n"
     ]
    }
   ],
   "source": [
    "calculate_average()"
   ]
  },
  {
   "cell_type": "markdown",
   "id": "73eb340a",
   "metadata": {},
   "source": [
    " Write a function called \"is_even\" that takes an integer as input and returns True if the number is even, and False otherwise.\n"
   ]
  },
  {
   "cell_type": "code",
   "execution_count": 23,
   "id": "a35caf91",
   "metadata": {},
   "outputs": [],
   "source": [
    "def is_even(n):\n",
    "    if n%2==0:\n",
    "        print(\"true\")\n",
    "    else:\n",
    "        print(\"false\")"
   ]
  },
  {
   "cell_type": "code",
   "execution_count": 24,
   "id": "bac75817",
   "metadata": {},
   "outputs": [
    {
     "name": "stdout",
     "output_type": "stream",
     "text": [
      "true\n"
     ]
    }
   ],
   "source": [
    "is_even(4)"
   ]
  },
  {
   "cell_type": "markdown",
   "id": "3b32d88f",
   "metadata": {},
   "source": [
    " Write a function called \"reverse_string\" that takes a string as input and returns the reverse of that string.\n"
   ]
  },
  {
   "cell_type": "code",
   "execution_count": 30,
   "id": "b5e16c63",
   "metadata": {},
   "outputs": [
    {
     "name": "stdout",
     "output_type": "stream",
     "text": [
      "enter a name heena\n"
     ]
    }
   ],
   "source": [
    "name = input(\"enter a name\")\n",
    "def reverse_string(name):\n",
    "    return(name[-1::-1])\n",
    "    "
   ]
  },
  {
   "cell_type": "code",
   "execution_count": 31,
   "id": "db1e4318",
   "metadata": {},
   "outputs": [
    {
     "data": {
      "text/plain": [
       "'aneeh '"
      ]
     },
     "execution_count": 31,
     "metadata": {},
     "output_type": "execute_result"
    }
   ],
   "source": [
    "reverse_string(name)"
   ]
  },
  {
   "cell_type": "markdown",
   "id": "ce26b233",
   "metadata": {},
   "source": [
    " Write a function called \"count_vowels\" that takes a string as input and returns the number of vowels (a, e, i, o, u) in that string"
   ]
  },
  {
   "cell_type": "code",
   "execution_count": 46,
   "id": "2e89d3e7",
   "metadata": {},
   "outputs": [],
   "source": [
    "vowels = [\"a\",\"e\",\"i\",\"o\",\"u\"]\n",
    "a = []\n",
    "def count_vowels(b):\n",
    "    for i in b:\n",
    "        if i in vowels:\n",
    "            a.append(i)\n",
    "    print (\"number of vowels in string are:\",len(a))\n",
    "\n",
    "                \n",
    "        "
   ]
  },
  {
   "cell_type": "code",
   "execution_count": 47,
   "id": "ffc5d5e4",
   "metadata": {},
   "outputs": [
    {
     "name": "stdout",
     "output_type": "stream",
     "text": [
      "number of vowels in string are: 3\n"
     ]
    }
   ],
   "source": [
    "count_vowels(\"elephant\")"
   ]
  },
  {
   "cell_type": "markdown",
   "id": "59eb3f24",
   "metadata": {},
   "source": [
    " Write a function called \"find_max\" that takes a list of numbers as input and returns the maximum value in that list.\n",
    "\n"
   ]
  },
  {
   "cell_type": "code",
   "execution_count": 50,
   "id": "47f8736a",
   "metadata": {},
   "outputs": [],
   "source": [
    "numbers = [4,5,6,7,8,9]\n",
    "def find_max(numbers):\n",
    "    return(max(numbers))"
   ]
  },
  {
   "cell_type": "code",
   "execution_count": 51,
   "id": "976da118",
   "metadata": {},
   "outputs": [
    {
     "data": {
      "text/plain": [
       "9"
      ]
     },
     "execution_count": 51,
     "metadata": {},
     "output_type": "execute_result"
    }
   ],
   "source": [
    "find_max(numbers)"
   ]
  },
  {
   "cell_type": "markdown",
   "id": "c9046e7e",
   "metadata": {},
   "source": [
    " Write a function called \"find_min\" that takes a list of numbers as input and returns the minimum value in that list."
   ]
  },
  {
   "cell_type": "code",
   "execution_count": 52,
   "id": "463cef42",
   "metadata": {},
   "outputs": [],
   "source": [
    "numbers1 = [4,5,6,7,8,9]\n",
    "def find_min(numbers1):\n",
    "    return(min(numbers))"
   ]
  },
  {
   "cell_type": "code",
   "execution_count": 53,
   "id": "0fdc16db",
   "metadata": {},
   "outputs": [
    {
     "data": {
      "text/plain": [
       "4"
      ]
     },
     "execution_count": 53,
     "metadata": {},
     "output_type": "execute_result"
    }
   ],
   "source": [
    "find_min(numbers1)"
   ]
  },
  {
   "cell_type": "code",
   "execution_count": null,
   "id": "587c44ea",
   "metadata": {},
   "outputs": [],
   "source": []
  }
 ],
 "metadata": {
  "kernelspec": {
   "display_name": "Python 3 (ipykernel)",
   "language": "python",
   "name": "python3"
  },
  "language_info": {
   "codemirror_mode": {
    "name": "ipython",
    "version": 3
   },
   "file_extension": ".py",
   "mimetype": "text/x-python",
   "name": "python",
   "nbconvert_exporter": "python",
   "pygments_lexer": "ipython3",
   "version": "3.11.4"
  }
 },
 "nbformat": 4,
 "nbformat_minor": 5
}
