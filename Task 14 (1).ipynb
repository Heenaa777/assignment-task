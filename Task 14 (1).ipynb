{
 "cells": [
  {
   "cell_type": "markdown",
   "id": "dd9881f5",
   "metadata": {},
   "source": [
    "\n",
    "1. \n",
    "\n",
    "   - Create a lambda function that takes two arguments and returns their sum.\n",
    "   - Create another lambda function that takes a single argument and returns its square.\n",
    "   - Use the `lambda` functions to calculate the sum and square of various numbers and print the results.\n",
    "\n",
    "2. \n",
    "   - Define a list of integers.\n",
    "   - Use the `filter` function to create a new list that contains only the even numbers from the original list.\n",
    "   - Use the `filter` function again to create a new list that contains only numbers greater than 10 from the original list.\n",
    "   - Print both filtered lists.\n",
    "\n",
    "3. - Define a list of strings where each string represents a number (e.g., `[\"1\", \"2\", \"3\"]`).\n",
    "   - Use the `map` function to convert each string to an integer and store the result in a new list.\n",
    "   \n",
    "   - Use the `map` function again to square each integer in the new list and store the result in another new list.\n",
    "   - Print both new lists.\n",
    "\n",
    "4. \n",
    "   - Create a list of dictionaries, where each dictionary represents a person with keys \"name\" and \"age\". Example: ` [{\"name\": \"Alice\", \"age\": 30}, {\"name\": \"Bob\", \"age\": 25}, ...]`\n",
    "   - Use the `filter` function to create a new list that contains only the people who are older than 25.\n",
    "   - Use the `map` function to create a new list that contains the names of the filtered people.\n",
    "   - Print the list of names.\n",
    "\n",
    "5. \n",
    "   - Create a program that reads a list of numbers from the user (you can use the `input` function for this).\n",
    "   - Use `map` and `filter` functions to perform the following operations:\n",
    "     - Square each number.\n",
    "     - Filter out numbers that are not divisible by 3.\n",
    "   - Print the result.\n"
   ]
  },
  {
   "cell_type": "markdown",
   "id": "cc6ccb83",
   "metadata": {},
   "source": [
    "\n",
    "   - Create a lambda function that takes two arguments and returns their sum.\n",
    "   - Create another lambda function that takes a single argument and returns its square.\n",
    "   - Use the `lambda` functions to calculate the sum and square of various numbers and print the results.\n"
   ]
  },
  {
   "cell_type": "code",
   "execution_count": 1,
   "id": "ee7818c6",
   "metadata": {},
   "outputs": [],
   "source": [
    "c = lambda x,y : x+y"
   ]
  },
  {
   "cell_type": "code",
   "execution_count": 2,
   "id": "21f9c351",
   "metadata": {},
   "outputs": [
    {
     "data": {
      "text/plain": [
       "15"
      ]
     },
     "execution_count": 2,
     "metadata": {},
     "output_type": "execute_result"
    }
   ],
   "source": [
    "c(7,8)"
   ]
  },
  {
   "cell_type": "code",
   "execution_count": 3,
   "id": "ee399398",
   "metadata": {},
   "outputs": [],
   "source": [
    "c = lambda n : n**0.5"
   ]
  },
  {
   "cell_type": "code",
   "execution_count": 4,
   "id": "8f11015f",
   "metadata": {},
   "outputs": [
    {
     "data": {
      "text/plain": [
       "2.6457513110645907"
      ]
     },
     "execution_count": 4,
     "metadata": {},
     "output_type": "execute_result"
    }
   ],
   "source": [
    "c(7)"
   ]
  },
  {
   "cell_type": "code",
   "execution_count": 5,
   "id": "ad999731",
   "metadata": {},
   "outputs": [],
   "source": [
    "c = lambda n: sum(n)"
   ]
  },
  {
   "cell_type": "code",
   "execution_count": 6,
   "id": "4de63735",
   "metadata": {},
   "outputs": [],
   "source": [
    "list1 = [1,2,3,4,5,6,7,7]"
   ]
  },
  {
   "cell_type": "code",
   "execution_count": 7,
   "id": "7a3e3479",
   "metadata": {},
   "outputs": [
    {
     "data": {
      "text/plain": [
       "35"
      ]
     },
     "execution_count": 7,
     "metadata": {},
     "output_type": "execute_result"
    }
   ],
   "source": [
    "c(list1)"
   ]
  },
  {
   "cell_type": "code",
   "execution_count": 20,
   "id": "89c49566",
   "metadata": {},
   "outputs": [],
   "source": [
    "c = lambda n : n**0.5"
   ]
  },
  {
   "cell_type": "code",
   "execution_count": 23,
   "id": "11e27598",
   "metadata": {},
   "outputs": [
    {
     "data": {
      "text/plain": [
       "[1, 2, 3, 4, 5, 6, 7, 7]"
      ]
     },
     "execution_count": 23,
     "metadata": {},
     "output_type": "execute_result"
    }
   ],
   "source": [
    "list1"
   ]
  },
  {
   "cell_type": "code",
   "execution_count": 27,
   "id": "be9c911b",
   "metadata": {},
   "outputs": [
    {
     "ename": "TypeError",
     "evalue": "unsupported operand type(s) for ** or pow(): 'list' and 'int'",
     "output_type": "error",
     "traceback": [
      "\u001b[1;31m---------------------------------------------------------------------------\u001b[0m",
      "\u001b[1;31mTypeError\u001b[0m                                 Traceback (most recent call last)",
      "Cell \u001b[1;32mIn[27], line 3\u001b[0m\n\u001b[0;32m      1\u001b[0m square \u001b[38;5;241m=\u001b[39m \u001b[38;5;28;01mlambda\u001b[39;00m n: n\u001b[38;5;241m*\u001b[39m\u001b[38;5;241m*\u001b[39m \u001b[38;5;241m2\u001b[39m\n\u001b[0;32m      2\u001b[0m \u001b[38;5;28;01mfor\u001b[39;00m i \u001b[38;5;129;01min\u001b[39;00m list1:\n\u001b[1;32m----> 3\u001b[0m     result \u001b[38;5;241m=\u001b[39m square(list1)\n\u001b[0;32m      4\u001b[0m     \u001b[38;5;28mprint\u001b[39m(\u001b[38;5;124mf\u001b[39m\u001b[38;5;124m\"\u001b[39m\u001b[38;5;124mThe square of \u001b[39m\u001b[38;5;132;01m{\u001b[39;00mlist1\u001b[38;5;132;01m}\u001b[39;00m\u001b[38;5;124m is \u001b[39m\u001b[38;5;132;01m{\u001b[39;00mresult\u001b[38;5;132;01m}\u001b[39;00m\u001b[38;5;124m\"\u001b[39m)\n",
      "Cell \u001b[1;32mIn[27], line 1\u001b[0m, in \u001b[0;36m<lambda>\u001b[1;34m(n)\u001b[0m\n\u001b[1;32m----> 1\u001b[0m square \u001b[38;5;241m=\u001b[39m \u001b[38;5;28;01mlambda\u001b[39;00m n: n\u001b[38;5;241m*\u001b[39m\u001b[38;5;241m*\u001b[39m \u001b[38;5;241m2\u001b[39m\n\u001b[0;32m      2\u001b[0m \u001b[38;5;28;01mfor\u001b[39;00m i \u001b[38;5;129;01min\u001b[39;00m list1:\n\u001b[0;32m      3\u001b[0m     result \u001b[38;5;241m=\u001b[39m square(list1)\n",
      "\u001b[1;31mTypeError\u001b[0m: unsupported operand type(s) for ** or pow(): 'list' and 'int'"
     ]
    }
   ],
   "source": [
    "\n",
    "square = lambda n: n** 2\n",
    "for i in list1:\n",
    "    result = square(list1)\n",
    "    print(f\"The square of {list1} is {result}\")"
   ]
  },
  {
   "cell_type": "markdown",
   "id": "ae6ac762",
   "metadata": {},
   "source": [
    "Define a list of integers.\n",
    "   - Use the `filter` function to create a new list that contains only the even numbers from the original list.\n",
    "   - Use the `filter` function again to create a new list that contains only numbers greater than 10 from the original list.\n",
    "   - Print both filtered lists"
   ]
  },
  {
   "cell_type": "code",
   "execution_count": 40,
   "id": "27a6dbf8",
   "metadata": {},
   "outputs": [],
   "source": [
    "def even(n):\n",
    "    if n%2==0 :\n",
    "        return n"
   ]
  },
  {
   "cell_type": "code",
   "execution_count": 41,
   "id": "611e81c6",
   "metadata": {},
   "outputs": [],
   "source": [
    "list2 = [2,3,4,5,6,7]"
   ]
  },
  {
   "cell_type": "code",
   "execution_count": 42,
   "id": "ed046aba",
   "metadata": {},
   "outputs": [
    {
     "data": {
      "text/plain": [
       "[2, 4, 6]"
      ]
     },
     "execution_count": 42,
     "metadata": {},
     "output_type": "execute_result"
    }
   ],
   "source": [
    "list(filter(even,list2))"
   ]
  },
  {
   "cell_type": "code",
   "execution_count": 43,
   "id": "ec0294df",
   "metadata": {},
   "outputs": [],
   "source": [
    "def numbers(n):\n",
    "    if n >10 :\n",
    "        return n"
   ]
  },
  {
   "cell_type": "code",
   "execution_count": 44,
   "id": "0a0dedfc",
   "metadata": {},
   "outputs": [],
   "source": [
    "list3 = [10,11,2,13,7,14,7]"
   ]
  },
  {
   "cell_type": "code",
   "execution_count": 45,
   "id": "4530c639",
   "metadata": {},
   "outputs": [
    {
     "data": {
      "text/plain": [
       "[11, 13, 14]"
      ]
     },
     "execution_count": 45,
     "metadata": {},
     "output_type": "execute_result"
    }
   ],
   "source": [
    "list(filter(numbers,list3))"
   ]
  },
  {
   "cell_type": "code",
   "execution_count": 32,
   "id": "909649bc",
   "metadata": {},
   "outputs": [
    {
     "ename": "TypeError",
     "evalue": "'type' object is not iterable",
     "output_type": "error",
     "traceback": [
      "\u001b[1;31m---------------------------------------------------------------------------\u001b[0m",
      "\u001b[1;31mTypeError\u001b[0m                                 Traceback (most recent call last)",
      "Cell \u001b[1;32mIn[32], line 1\u001b[0m\n\u001b[1;32m----> 1\u001b[0m \u001b[38;5;28mlist\u001b[39m(\u001b[38;5;28mfilter\u001b[39m)\n",
      "\u001b[1;31mTypeError\u001b[0m: 'type' object is not iterable"
     ]
    }
   ],
   "source": [
    "list(filter)"
   ]
  },
  {
   "cell_type": "code",
   "execution_count": null,
   "id": "ccc1788d",
   "metadata": {},
   "outputs": [],
   "source": []
  },
  {
   "cell_type": "markdown",
   "id": "53b5f251",
   "metadata": {},
   "source": [
    "Define a list of strings where each string represents a number (e.g., `[\"1\", \"2\", \"3\"]`).\n",
    "   - Use the `map` function to convert each string to an integer and store the result in a new list.\n",
    "   \n",
    "   - Use the `map` function again to square each integer in the new list and store the result in another new list.\n",
    "   - Print both new lists."
   ]
  },
  {
   "cell_type": "code",
   "execution_count": 16,
   "id": "1210d312",
   "metadata": {},
   "outputs": [],
   "source": [
    "def name(n):\n",
    "    if values(int==0):\n",
    "        return n"
   ]
  },
  {
   "cell_type": "code",
   "execution_count": 17,
   "id": "a2c3f7d1",
   "metadata": {},
   "outputs": [
    {
     "data": {
      "text/plain": [
       "['1', '5', '6', '7']"
      ]
     },
     "execution_count": 17,
     "metadata": {},
     "output_type": "execute_result"
    }
   ],
   "source": [
    "values"
   ]
  },
  {
   "cell_type": "code",
   "execution_count": 19,
   "id": "4004f70d",
   "metadata": {},
   "outputs": [],
   "source": [
    "var = list(map(int,values))"
   ]
  },
  {
   "cell_type": "code",
   "execution_count": 20,
   "id": "8cea1333",
   "metadata": {},
   "outputs": [
    {
     "data": {
      "text/plain": [
       "[1, 5, 6, 7]"
      ]
     },
     "execution_count": 20,
     "metadata": {},
     "output_type": "execute_result"
    }
   ],
   "source": [
    "var"
   ]
  },
  {
   "cell_type": "code",
   "execution_count": 24,
   "id": "6071a322",
   "metadata": {},
   "outputs": [],
   "source": [
    "def name(n):\n",
    "        return n**0.5"
   ]
  },
  {
   "cell_type": "code",
   "execution_count": 26,
   "id": "faebdc46",
   "metadata": {},
   "outputs": [],
   "source": [
    "var1 = list(map(name,var))"
   ]
  },
  {
   "cell_type": "code",
   "execution_count": 27,
   "id": "e203a716",
   "metadata": {},
   "outputs": [
    {
     "data": {
      "text/plain": [
       "[1.0, 2.23606797749979, 2.449489742783178, 2.6457513110645907]"
      ]
     },
     "execution_count": 27,
     "metadata": {},
     "output_type": "execute_result"
    }
   ],
   "source": [
    "var1"
   ]
  },
  {
   "cell_type": "markdown",
   "id": "6e110779",
   "metadata": {},
   "source": [
    "Create a list of dictionaries, where each dictionary represents a person with keys \"name\" and \"age\". Example:  [{\"name\": \"Alice\", \"age\": 30}, {\"name\": \"Bob\", \"age\": 25}, ...]\n",
    "Use the filter function to create a new list that contains only the people who are older than 25.\n",
    "Use the map function to create a new list that contains the names of the filtered people.\n",
    "Print the list of names.\n",
    "Create a program that reads a list of numbers from the user (you can use the input function for this)."
   ]
  },
  {
   "cell_type": "code",
   "execution_count": 3,
   "id": "e736ef19",
   "metadata": {},
   "outputs": [],
   "source": [
    "dictionary = [{\"name\":\"heena\",\"age\":24},{\"name\":\"ravali\",\"age\":25},{\"name\":\"nikitha\",\"age\":30}]"
   ]
  },
  {
   "cell_type": "code",
   "execution_count": 4,
   "id": "ae3409b2",
   "metadata": {},
   "outputs": [
    {
     "data": {
      "text/plain": [
       "[{'name': 'nikitha', 'age': 30}]"
      ]
     },
     "execution_count": 4,
     "metadata": {},
     "output_type": "execute_result"
    }
   ],
   "source": [
    "def name(n):\n",
    "    if n[\"age\"]>25:\n",
    "        return n\n",
    "dictionary =  [{\"name\":\"heena\",\"age\":24},{\"name\":\"ravali\",\"age\":25},{\"name\":\"nikitha\",\"age\":30}]\n",
    "list(filter(name,dictionary))"
   ]
  },
  {
   "cell_type": "code",
   "execution_count": 7,
   "id": "f39372a3",
   "metadata": {},
   "outputs": [
    {
     "data": {
      "text/plain": [
       "[{'name': 'heena', 'age': 24},\n",
       " {'name': 'ravali', 'age': 25},\n",
       " {'name': 'nikitha', 'age': 30}]"
      ]
     },
     "execution_count": 7,
     "metadata": {},
     "output_type": "execute_result"
    }
   ],
   "source": [
    "def name(n):\n",
    "    if {\"name\":n[\"name\"]}:\n",
    "        return n\n",
    "list(map(name,dictionary))"
   ]
  },
  {
   "cell_type": "raw",
   "id": "2ac3aef9",
   "metadata": {},
   "source": [
    "Class task\n",
    "take combination of int floats string, print only float, print only int\n",
    "replace int values with \"Integer\"\n",
    "replace str with \"String\"\n",
    "replace float value with\" float\""
   ]
  },
  {
   "cell_type": "code",
   "execution_count": 13,
   "id": "01d5afa7",
   "metadata": {},
   "outputs": [
    {
     "data": {
      "text/plain": [
       "[1, 2, 3]"
      ]
     },
     "execution_count": 13,
     "metadata": {},
     "output_type": "execute_result"
    }
   ],
   "source": [
    "def comb(n):\n",
    "    if type(n)==int:\n",
    "        return n\n",
    "n = [1,2,3,4.4,5.5,\"heena\",\"hafsa\"]\n",
    "list(filter(comb,n))"
   ]
  },
  {
   "cell_type": "code",
   "execution_count": 14,
   "id": "ccb00cab",
   "metadata": {},
   "outputs": [
    {
     "data": {
      "text/plain": [
       "[4.4, 5.5]"
      ]
     },
     "execution_count": 14,
     "metadata": {},
     "output_type": "execute_result"
    }
   ],
   "source": [
    "def comb(n):\n",
    "    if type(n)==float:\n",
    "        return n\n",
    "n = [1,2,3,4.4,5.5,\"heena\",\"hafsa\"]\n",
    "list(filter(comb,n))"
   ]
  },
  {
   "cell_type": "code",
   "execution_count": 15,
   "id": "2799ac8f",
   "metadata": {},
   "outputs": [
    {
     "data": {
      "text/plain": [
       "['heena', 'hafsa']"
      ]
     },
     "execution_count": 15,
     "metadata": {},
     "output_type": "execute_result"
    }
   ],
   "source": [
    "def comb(n):\n",
    "    if type(n)==str:\n",
    "        return n\n",
    "n = [1,2,3,4.4,5.5,\"heena\",\"hafsa\"]\n",
    "list(filter(comb,n))"
   ]
  },
  {
   "cell_type": "code",
   "execution_count": null,
   "id": "219956df",
   "metadata": {},
   "outputs": [],
   "source": []
  }
 ],
 "metadata": {
  "kernelspec": {
   "display_name": "Python 3 (ipykernel)",
   "language": "python",
   "name": "python3"
  },
  "language_info": {
   "codemirror_mode": {
    "name": "ipython",
    "version": 3
   },
   "file_extension": ".py",
   "mimetype": "text/x-python",
   "name": "python",
   "nbconvert_exporter": "python",
   "pygments_lexer": "ipython3",
   "version": "3.11.4"
  }
 },
 "nbformat": 4,
 "nbformat_minor": 5
}
