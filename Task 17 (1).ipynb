{
 "cells": [
  {
   "cell_type": "markdown",
   "id": "8dc8a778",
   "metadata": {},
   "source": [
    "\n",
    "`use context manager`\n",
    "\n",
    "**Create a file**\n",
    "Write a Python program that creates a text file named \"data.txt\" and add data about python programming (should contain at least 5 lines)\n",
    "\n",
    "**Read and Display File Contents**\n",
    "Write a Python program that reads a text file named \"data.txt\" and displays its contents on the screen.\n",
    "\n",
    "**Count Words in a File**\n",
    "Write a Python program that reads a text file named \"data.txt\" and counts the total number of words in the file. Display the word count on the screen.\n",
    "\n",
    "**Search and Replace**\n",
    "Create a Python program that reads a text file named \"data.txt\" and asks the user to enter a word to search for. If the word is found in the file, replace all occurrences of the word with a new word provided by the user.\n",
    "\n",
    "**Append to a File**\n",
    "Write a Python program that prompts the user to enter a sentence. Append this sentence to an existing file named \"notes.txt\". Make sure the newly added sentence starts on a new line.\n",
    "\n",
    "\n"
   ]
  },
  {
   "cell_type": "markdown",
   "id": "93d24b57",
   "metadata": {},
   "source": [
    "Write a Python program that creates a text file named \"data.txt\" and add data about python programming (should contain at least 5 lines)\n"
   ]
  },
  {
   "cell_type": "code",
   "execution_count": 1,
   "id": "f8bb8674",
   "metadata": {},
   "outputs": [
    {
     "name": "stdout",
     "output_type": "stream",
     "text": [
      "237\n"
     ]
    }
   ],
   "source": [
    "with open (\"data.txt\",\"w+\") as h:\n",
    "    print(h.write(\"Python is a computer programming language often used to build websites and software, automate tasks, and analyze data. Python is a general-purpose language, not specialized for any specific problems, and used to create various programmes\"))"
   ]
  },
  {
   "cell_type": "raw",
   "id": "5d448db1",
   "metadata": {},
   "source": [
    "Read and Display File Contents Write a Python program that reads a text file named \"data.txt\" and displays its contents on the screen."
   ]
  },
  {
   "cell_type": "code",
   "execution_count": 17,
   "id": "21337301",
   "metadata": {},
   "outputs": [],
   "source": [
    "h = open(\"data.txt\")"
   ]
  },
  {
   "cell_type": "code",
   "execution_count": 18,
   "id": "72a63ad6",
   "metadata": {},
   "outputs": [
    {
     "name": "stdout",
     "output_type": "stream",
     "text": [
      "Python is a computer programming language often used to build websites and software, automate tasks, and analyze data. Python is a general-purpose language, not specialized for any specific problems, and used to create various programmes\n"
     ]
    }
   ],
   "source": [
    "print(h.read())"
   ]
  },
  {
   "cell_type": "markdown",
   "id": "250df792",
   "metadata": {},
   "source": [
    "Count Words in a File Write a Python program that reads a text file named \"data.txt\" and counts the total number of words in the file. Display the word count on the screen."
   ]
  },
  {
   "cell_type": "code",
   "execution_count": 23,
   "id": "5ec16c30",
   "metadata": {},
   "outputs": [],
   "source": [
    "h = open(\"data.txt\",\"r\")"
   ]
  },
  {
   "cell_type": "code",
   "execution_count": 24,
   "id": "c238d1d8",
   "metadata": {},
   "outputs": [],
   "source": [
    "\n"
   ]
  },
  {
   "cell_type": "code",
   "execution_count": 25,
   "id": "cfdbd4ee",
   "metadata": {},
   "outputs": [],
   "source": [
    "h1 = string.split()"
   ]
  },
  {
   "cell_type": "code",
   "execution_count": 26,
   "id": "5a3f7e4b",
   "metadata": {},
   "outputs": [
    {
     "name": "stdout",
     "output_type": "stream",
     "text": [
      "['Python', 'is', 'a', 'computer', 'programming', 'language', 'often', 'used', 'to', 'build', 'websites', 'and', 'software,', 'automate', 'tasks,', 'and', 'analyze', 'data.', 'Python', 'is', 'a', 'general-purpose', 'language,', 'not', 'specialized', 'for', 'any', 'specific', 'problems,', 'and', 'used', 'to', 'create', 'various', 'programmes']\n"
     ]
    }
   ],
   "source": [
    "print(h1)"
   ]
  },
  {
   "cell_type": "code",
   "execution_count": 28,
   "id": "af85f1d7",
   "metadata": {},
   "outputs": [
    {
     "data": {
      "text/plain": [
       "35"
      ]
     },
     "execution_count": 28,
     "metadata": {},
     "output_type": "execute_result"
    }
   ],
   "source": [
    "len(h1)"
   ]
  },
  {
   "cell_type": "markdown",
   "id": "37c0c9e7",
   "metadata": {},
   "source": [
    "Search and Replace Create a Python program that reads a text file named \"data.txt\" and asks the user to enter a word to search for. If the word is found in the file, replace all occurrences of the word with a new word provided by the user."
   ]
  },
  {
   "cell_type": "code",
   "execution_count": 1,
   "id": "95a588b7",
   "metadata": {},
   "outputs": [],
   "source": [
    "h = open(\"data.txt\",\"r\")\n",
    "string = h.read()"
   ]
  },
  {
   "cell_type": "code",
   "execution_count": 2,
   "id": "3bacc08f",
   "metadata": {},
   "outputs": [
    {
     "name": "stdout",
     "output_type": "stream",
     "text": [
      "enter a word :: Python\n",
      "enter a another word::python\n",
      "Python is a computer programming language often used to build websites and software, automate tasks, and analyze data. Python is a general-purpose language, not specialized for any specific problems, and used to create var1ious programmes\n"
     ]
    }
   ],
   "source": [
    "var = input(\"enter a word :: \")\n",
    "var1 = input(\"enter a another word::\")\n",
    "\n",
    "if var in string:\n",
    "    print(string.replace(\"var\",\"var1\"))\n",
    "    "
   ]
  },
  {
   "cell_type": "markdown",
   "id": "d8f7fa70",
   "metadata": {},
   "source": [
    "Append to a File Write a Python program that prompts the user to enter a sentence. Append this sentence to an existing file named \"notes.txt\". Make sure the newly added sentence starts on a new line."
   ]
  },
  {
   "cell_type": "code",
   "execution_count": 23,
   "id": "66fab236",
   "metadata": {},
   "outputs": [
    {
     "name": "stdout",
     "output_type": "stream",
     "text": [
      "enter the sentance:: how are you\n"
     ]
    }
   ],
   "source": [
    "with open(\"notes.txt\",\"a+\") as h7:\n",
    "    h7.write(\"hello world\")\n",
    "    sentence = input(\"enter the sentance:: \")\n",
    "    h7.write(f\"\\n{sentence}\")"
   ]
  },
  {
   "cell_type": "code",
   "execution_count": 26,
   "id": "61c91693",
   "metadata": {},
   "outputs": [
    {
     "name": "stdout",
     "output_type": "stream",
     "text": [
      "hello worldhello worldf{\n",
      "sentance}hello worldf\n",
      "{sentance}hello worldhello world\n",
      " how are uhello world\n",
      "how are uhello world\n",
      "how are you\n"
     ]
    }
   ],
   "source": [
    "with open(\"notes.txt\",\"a+\") as h5:\n",
    "    h5.seek(0)\n",
    "    print(h5.read())"
   ]
  },
  {
   "cell_type": "code",
   "execution_count": null,
   "id": "44186e77",
   "metadata": {},
   "outputs": [],
   "source": []
  }
 ],
 "metadata": {
  "kernelspec": {
   "display_name": "Python 3 (ipykernel)",
   "language": "python",
   "name": "python3"
  },
  "language_info": {
   "codemirror_mode": {
    "name": "ipython",
    "version": 3
   },
   "file_extension": ".py",
   "mimetype": "text/x-python",
   "name": "python",
   "nbconvert_exporter": "python",
   "pygments_lexer": "ipython3",
   "version": "3.11.4"
  }
 },
 "nbformat": 4,
 "nbformat_minor": 5
}
