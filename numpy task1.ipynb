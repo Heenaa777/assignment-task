{
 "cells": [
  {
   "cell_type": "markdown",
   "id": "fac2ccd2",
   "metadata": {},
   "source": [
    "## 1.write python code to create array in different ways"
   ]
  },
  {
   "cell_type": "code",
   "execution_count": 2,
   "id": "25408ee0",
   "metadata": {},
   "outputs": [],
   "source": [
    "import numpy as np"
   ]
  },
  {
   "cell_type": "code",
   "execution_count": 2,
   "id": "4037d8b2",
   "metadata": {},
   "outputs": [
    {
     "data": {
      "text/plain": [
       "array([5, 6, 7, 7, 8, 9])"
      ]
     },
     "execution_count": 2,
     "metadata": {},
     "output_type": "execute_result"
    }
   ],
   "source": [
    "h = np.array([5,6,7,7,8,9])\n",
    "h"
   ]
  },
  {
   "cell_type": "code",
   "execution_count": 3,
   "id": "93270fd0",
   "metadata": {},
   "outputs": [
    {
     "data": {
      "text/plain": [
       "array([1, 2, 3, 4, 5, 6, 7])"
      ]
     },
     "execution_count": 3,
     "metadata": {},
     "output_type": "execute_result"
    }
   ],
   "source": [
    "list1 = [1,2,3,4,5,6,7]\n",
    "h1 = np.array(list1)\n",
    "h1"
   ]
  },
  {
   "cell_type": "code",
   "execution_count": 4,
   "id": "d19d8f0b",
   "metadata": {},
   "outputs": [
    {
     "data": {
      "text/plain": [
       "array([ 1,  2,  3,  4, 56,  7])"
      ]
     },
     "execution_count": 4,
     "metadata": {},
     "output_type": "execute_result"
    }
   ],
   "source": [
    "tuple1 = (1,2,3,4,56,7)\n",
    "h2    = np.array(tuple1)\n",
    "h2"
   ]
  },
  {
   "cell_type": "markdown",
   "id": "6099c828",
   "metadata": {},
   "source": [
    "## 2.1D numpy array"
   ]
  },
  {
   "cell_type": "code",
   "execution_count": 3,
   "id": "bf44c5a8",
   "metadata": {},
   "outputs": [
    {
     "data": {
      "text/plain": [
       "array([10, 11, 12, 13, 14, 15, 16, 17, 18, 19, 20])"
      ]
     },
     "execution_count": 3,
     "metadata": {},
     "output_type": "execute_result"
    }
   ],
   "source": [
    "array1 = np.arange(10,21)\n",
    "array1"
   ]
  },
  {
   "cell_type": "code",
   "execution_count": 4,
   "id": "0315d43c",
   "metadata": {},
   "outputs": [
    {
     "data": {
      "text/plain": [
       "array([0.        , 0.21052632, 0.42105263, 0.63157895, 0.84210526,\n",
       "       1.05263158, 1.26315789, 1.47368421, 1.68421053, 1.89473684,\n",
       "       2.10526316, 2.31578947, 2.52631579, 2.73684211, 2.94736842,\n",
       "       3.15789474, 3.36842105, 3.57894737, 3.78947368, 4.        ])"
      ]
     },
     "execution_count": 4,
     "metadata": {},
     "output_type": "execute_result"
    }
   ],
   "source": [
    "array2 = np.linspace(0,4,20)\n",
    "array2"
   ]
  },
  {
   "cell_type": "markdown",
   "id": "7882ae71",
   "metadata": {},
   "source": [
    "## 3.find all the attributes of array1 and array2"
   ]
  },
  {
   "cell_type": "markdown",
   "id": "272cfe43",
   "metadata": {},
   "source": [
    "### array1 attributes"
   ]
  },
  {
   "cell_type": "code",
   "execution_count": 14,
   "id": "b2ead59e",
   "metadata": {},
   "outputs": [
    {
     "data": {
      "text/plain": [
       "dtype('int32')"
      ]
     },
     "execution_count": 14,
     "metadata": {},
     "output_type": "execute_result"
    }
   ],
   "source": [
    "array1.dtype"
   ]
  },
  {
   "cell_type": "code",
   "execution_count": 15,
   "id": "0538557f",
   "metadata": {},
   "outputs": [
    {
     "data": {
      "text/plain": [
       "4"
      ]
     },
     "execution_count": 15,
     "metadata": {},
     "output_type": "execute_result"
    }
   ],
   "source": [
    "array1.itemsize"
   ]
  },
  {
   "cell_type": "code",
   "execution_count": 17,
   "id": "9af0f24c",
   "metadata": {},
   "outputs": [
    {
     "data": {
      "text/plain": [
       "44"
      ]
     },
     "execution_count": 17,
     "metadata": {},
     "output_type": "execute_result"
    }
   ],
   "source": [
    "array1.nbytes"
   ]
  },
  {
   "cell_type": "code",
   "execution_count": 18,
   "id": "7a681e37",
   "metadata": {},
   "outputs": [
    {
     "data": {
      "text/plain": [
       "11"
      ]
     },
     "execution_count": 18,
     "metadata": {},
     "output_type": "execute_result"
    }
   ],
   "source": [
    "array1.size"
   ]
  },
  {
   "cell_type": "code",
   "execution_count": 19,
   "id": "ce218a54",
   "metadata": {},
   "outputs": [
    {
     "data": {
      "text/plain": [
       "1"
      ]
     },
     "execution_count": 19,
     "metadata": {},
     "output_type": "execute_result"
    }
   ],
   "source": [
    "array1.ndim"
   ]
  },
  {
   "cell_type": "code",
   "execution_count": 21,
   "id": "ff791837",
   "metadata": {},
   "outputs": [
    {
     "data": {
      "text/plain": [
       "20"
      ]
     },
     "execution_count": 21,
     "metadata": {},
     "output_type": "execute_result"
    }
   ],
   "source": [
    "array1.max()"
   ]
  },
  {
   "cell_type": "code",
   "execution_count": 23,
   "id": "e550c3d7",
   "metadata": {},
   "outputs": [
    {
     "data": {
      "text/plain": [
       "10"
      ]
     },
     "execution_count": 23,
     "metadata": {},
     "output_type": "execute_result"
    }
   ],
   "source": [
    "array1.min()"
   ]
  },
  {
   "cell_type": "markdown",
   "id": "bed0914c",
   "metadata": {},
   "source": [
    "### array2 attributes"
   ]
  },
  {
   "cell_type": "code",
   "execution_count": 24,
   "id": "da6fa5f3",
   "metadata": {},
   "outputs": [
    {
     "data": {
      "text/plain": [
       "dtype('float64')"
      ]
     },
     "execution_count": 24,
     "metadata": {},
     "output_type": "execute_result"
    }
   ],
   "source": [
    "array2.dtype"
   ]
  },
  {
   "cell_type": "code",
   "execution_count": 25,
   "id": "3aca2439",
   "metadata": {},
   "outputs": [
    {
     "data": {
      "text/plain": [
       "8"
      ]
     },
     "execution_count": 25,
     "metadata": {},
     "output_type": "execute_result"
    }
   ],
   "source": [
    "array2.itemsize"
   ]
  },
  {
   "cell_type": "code",
   "execution_count": 26,
   "id": "a5601d53",
   "metadata": {},
   "outputs": [
    {
     "data": {
      "text/plain": [
       "1"
      ]
     },
     "execution_count": 26,
     "metadata": {},
     "output_type": "execute_result"
    }
   ],
   "source": [
    "array2.ndim"
   ]
  },
  {
   "cell_type": "code",
   "execution_count": 27,
   "id": "9582ec14",
   "metadata": {},
   "outputs": [
    {
     "data": {
      "text/plain": [
       "4.0"
      ]
     },
     "execution_count": 27,
     "metadata": {},
     "output_type": "execute_result"
    }
   ],
   "source": [
    "array2.max()"
   ]
  },
  {
   "cell_type": "code",
   "execution_count": 28,
   "id": "aa403f54",
   "metadata": {},
   "outputs": [
    {
     "data": {
      "text/plain": [
       "0.0"
      ]
     },
     "execution_count": 28,
     "metadata": {},
     "output_type": "execute_result"
    }
   ],
   "source": [
    "array2.min()"
   ]
  },
  {
   "cell_type": "code",
   "execution_count": 29,
   "id": "0af2e39e",
   "metadata": {},
   "outputs": [
    {
     "data": {
      "text/plain": [
       "20"
      ]
     },
     "execution_count": 29,
     "metadata": {},
     "output_type": "execute_result"
    }
   ],
   "source": [
    "array2.size"
   ]
  },
  {
   "cell_type": "code",
   "execution_count": 30,
   "id": "83066346",
   "metadata": {},
   "outputs": [
    {
     "data": {
      "text/plain": [
       "160"
      ]
     },
     "execution_count": 30,
     "metadata": {},
     "output_type": "execute_result"
    }
   ],
   "source": [
    "array2.nbytes"
   ]
  },
  {
   "cell_type": "markdown",
   "id": "1a3d9afb",
   "metadata": {},
   "source": [
    "## 4.descriptive statistics"
   ]
  },
  {
   "cell_type": "markdown",
   "id": "c2b4f7eb",
   "metadata": {},
   "source": [
    "### array1"
   ]
  },
  {
   "cell_type": "markdown",
   "id": "4f9e90b7",
   "metadata": {},
   "source": [
    "### central tendency"
   ]
  },
  {
   "cell_type": "code",
   "execution_count": null,
   "id": "eccf0df6",
   "metadata": {},
   "outputs": [],
   "source": [
    "datatype = int32\n",
    "structure(rowsxcolumns) = 1x1\n",
    "missing values = 0\n",
    "outliers = 0"
   ]
  },
  {
   "cell_type": "code",
   "execution_count": 7,
   "id": "751bec2f",
   "metadata": {},
   "outputs": [
    {
     "data": {
      "text/plain": [
       "15.0"
      ]
     },
     "execution_count": 7,
     "metadata": {},
     "output_type": "execute_result"
    }
   ],
   "source": [
    "np.mean(array1)"
   ]
  },
  {
   "cell_type": "code",
   "execution_count": 9,
   "id": "88763684",
   "metadata": {},
   "outputs": [
    {
     "data": {
      "text/plain": [
       "15.0"
      ]
     },
     "execution_count": 9,
     "metadata": {},
     "output_type": "execute_result"
    }
   ],
   "source": [
    "np.median(array1)"
   ]
  },
  {
   "cell_type": "code",
   "execution_count": 10,
   "id": "136f51b9",
   "metadata": {},
   "outputs": [
    {
     "data": {
      "text/plain": [
       "20"
      ]
     },
     "execution_count": 10,
     "metadata": {},
     "output_type": "execute_result"
    }
   ],
   "source": [
    "array1.max()"
   ]
  },
  {
   "cell_type": "code",
   "execution_count": 11,
   "id": "a7f57ad1",
   "metadata": {},
   "outputs": [
    {
     "data": {
      "text/plain": [
       "10"
      ]
     },
     "execution_count": 11,
     "metadata": {},
     "output_type": "execute_result"
    }
   ],
   "source": [
    "array1.min()"
   ]
  },
  {
   "cell_type": "markdown",
   "id": "a6fb1ecb",
   "metadata": {},
   "source": [
    "### spread"
   ]
  },
  {
   "cell_type": "code",
   "execution_count": 12,
   "id": "b7b9072c",
   "metadata": {},
   "outputs": [
    {
     "data": {
      "text/plain": [
       "10"
      ]
     },
     "execution_count": 12,
     "metadata": {},
     "output_type": "execute_result"
    }
   ],
   "source": [
    "array1.max() - array1.min() # range"
   ]
  },
  {
   "cell_type": "code",
   "execution_count": 13,
   "id": "79d7d369",
   "metadata": {},
   "outputs": [
    {
     "data": {
      "text/plain": [
       "12.5"
      ]
     },
     "execution_count": 13,
     "metadata": {},
     "output_type": "execute_result"
    }
   ],
   "source": [
    "q1 = np.percentile(array1,25)\n",
    "q1"
   ]
  },
  {
   "cell_type": "code",
   "execution_count": 14,
   "id": "2325b127",
   "metadata": {},
   "outputs": [
    {
     "data": {
      "text/plain": [
       "17.5"
      ]
     },
     "execution_count": 14,
     "metadata": {},
     "output_type": "execute_result"
    }
   ],
   "source": [
    "q3 = np.percentile(array1,75)\n",
    "q3"
   ]
  },
  {
   "cell_type": "code",
   "execution_count": 16,
   "id": "3bd1037c",
   "metadata": {},
   "outputs": [
    {
     "data": {
      "text/plain": [
       "5.0"
      ]
     },
     "execution_count": 16,
     "metadata": {},
     "output_type": "execute_result"
    }
   ],
   "source": [
    "IQR = q3 - q1\n",
    "IQR"
   ]
  },
  {
   "cell_type": "code",
   "execution_count": 17,
   "id": "ed6963f4",
   "metadata": {},
   "outputs": [
    {
     "data": {
      "text/plain": [
       "5.0"
      ]
     },
     "execution_count": 17,
     "metadata": {},
     "output_type": "execute_result"
    }
   ],
   "source": [
    "lower = q1-(1.5*IQR)\n",
    "lower"
   ]
  },
  {
   "cell_type": "code",
   "execution_count": 18,
   "id": "6f4aa88a",
   "metadata": {},
   "outputs": [
    {
     "data": {
      "text/plain": [
       "25.0"
      ]
     },
     "execution_count": 18,
     "metadata": {},
     "output_type": "execute_result"
    }
   ],
   "source": [
    "upper = q3+(1.5*IQR)\n",
    "upper"
   ]
  },
  {
   "cell_type": "code",
   "execution_count": 21,
   "id": "0ed8cbd5",
   "metadata": {},
   "outputs": [
    {
     "data": {
      "text/plain": [
       "10.0"
      ]
     },
     "execution_count": 21,
     "metadata": {},
     "output_type": "execute_result"
    }
   ],
   "source": [
    "np.var(array1) # variance"
   ]
  },
  {
   "cell_type": "code",
   "execution_count": 22,
   "id": "b188e81f",
   "metadata": {},
   "outputs": [
    {
     "data": {
      "text/plain": [
       "3.1622776601683795"
      ]
     },
     "execution_count": 22,
     "metadata": {},
     "output_type": "execute_result"
    }
   ],
   "source": [
    "np.std(array1)"
   ]
  },
  {
   "cell_type": "markdown",
   "id": "3372b6e4",
   "metadata": {},
   "source": [
    "## array2"
   ]
  },
  {
   "cell_type": "markdown",
   "id": "d35e077c",
   "metadata": {},
   "source": [
    "### central tendency"
   ]
  },
  {
   "cell_type": "code",
   "execution_count": null,
   "id": "6f92a77e",
   "metadata": {},
   "outputs": [],
   "source": [
    "datatype = float64\n",
    "structure(rowsxcolumns) = 1x1\n",
    "missing values = 0\n",
    "outliers = 0"
   ]
  },
  {
   "cell_type": "code",
   "execution_count": 5,
   "id": "c1196d9c",
   "metadata": {},
   "outputs": [
    {
     "data": {
      "text/plain": [
       "2.0"
      ]
     },
     "execution_count": 5,
     "metadata": {},
     "output_type": "execute_result"
    }
   ],
   "source": [
    "np.mean(array2)"
   ]
  },
  {
   "cell_type": "code",
   "execution_count": 6,
   "id": "6723e179",
   "metadata": {},
   "outputs": [
    {
     "data": {
      "text/plain": [
       "2.0"
      ]
     },
     "execution_count": 6,
     "metadata": {},
     "output_type": "execute_result"
    }
   ],
   "source": [
    "np.median(array2)"
   ]
  },
  {
   "cell_type": "code",
   "execution_count": 7,
   "id": "d97aabc5",
   "metadata": {},
   "outputs": [
    {
     "data": {
      "text/plain": [
       "4.0"
      ]
     },
     "execution_count": 7,
     "metadata": {},
     "output_type": "execute_result"
    }
   ],
   "source": [
    "array2.max()"
   ]
  },
  {
   "cell_type": "code",
   "execution_count": 8,
   "id": "23430b42",
   "metadata": {},
   "outputs": [
    {
     "data": {
      "text/plain": [
       "0.0"
      ]
     },
     "execution_count": 8,
     "metadata": {},
     "output_type": "execute_result"
    }
   ],
   "source": [
    "array2.min()"
   ]
  },
  {
   "cell_type": "markdown",
   "id": "be78c9cb",
   "metadata": {},
   "source": [
    "### spread"
   ]
  },
  {
   "cell_type": "code",
   "execution_count": 10,
   "id": "555bf8b0",
   "metadata": {},
   "outputs": [
    {
     "data": {
      "text/plain": [
       "4.0"
      ]
     },
     "execution_count": 10,
     "metadata": {},
     "output_type": "execute_result"
    }
   ],
   "source": [
    "array2.max() - array2.min()"
   ]
  },
  {
   "cell_type": "code",
   "execution_count": 11,
   "id": "31f9eca4",
   "metadata": {},
   "outputs": [
    {
     "data": {
      "text/plain": [
       "1.0"
      ]
     },
     "execution_count": 11,
     "metadata": {},
     "output_type": "execute_result"
    }
   ],
   "source": [
    "q1 = np.percentile(array2,25)\n",
    "q1"
   ]
  },
  {
   "cell_type": "code",
   "execution_count": 12,
   "id": "582da728",
   "metadata": {},
   "outputs": [
    {
     "data": {
      "text/plain": [
       "3.0"
      ]
     },
     "execution_count": 12,
     "metadata": {},
     "output_type": "execute_result"
    }
   ],
   "source": [
    "q3 = np.percentile(array2,75)\n",
    "q3"
   ]
  },
  {
   "cell_type": "code",
   "execution_count": 13,
   "id": "02584dfd",
   "metadata": {},
   "outputs": [
    {
     "data": {
      "text/plain": [
       "2.0"
      ]
     },
     "execution_count": 13,
     "metadata": {},
     "output_type": "execute_result"
    }
   ],
   "source": [
    "IQR = q3 - q1\n",
    "IQR"
   ]
  },
  {
   "cell_type": "code",
   "execution_count": 14,
   "id": "153d8a55",
   "metadata": {},
   "outputs": [
    {
     "data": {
      "text/plain": [
       "-2.0"
      ]
     },
     "execution_count": 14,
     "metadata": {},
     "output_type": "execute_result"
    }
   ],
   "source": [
    "lower = q1 - (1.5*IQR)\n",
    "lower"
   ]
  },
  {
   "cell_type": "code",
   "execution_count": 15,
   "id": "4f4376ea",
   "metadata": {},
   "outputs": [
    {
     "data": {
      "text/plain": [
       "6.0"
      ]
     },
     "execution_count": 15,
     "metadata": {},
     "output_type": "execute_result"
    }
   ],
   "source": [
    "upper = q3 + (1.5*IQR)\n",
    "upper"
   ]
  },
  {
   "cell_type": "code",
   "execution_count": 16,
   "id": "6b5f6eef",
   "metadata": {},
   "outputs": [
    {
     "data": {
      "text/plain": [
       "1.4736842105263157"
      ]
     },
     "execution_count": 16,
     "metadata": {},
     "output_type": "execute_result"
    }
   ],
   "source": [
    "np.var(array2)"
   ]
  },
  {
   "cell_type": "code",
   "execution_count": 17,
   "id": "68d47911",
   "metadata": {},
   "outputs": [
    {
     "data": {
      "text/plain": [
       "1.2139539573337679"
      ]
     },
     "execution_count": 17,
     "metadata": {},
     "output_type": "execute_result"
    }
   ],
   "source": [
    "np.std(array2)"
   ]
  },
  {
   "cell_type": "code",
   "execution_count": null,
   "id": "e14e7888",
   "metadata": {},
   "outputs": [],
   "source": []
  }
 ],
 "metadata": {
  "kernelspec": {
   "display_name": "Python 3 (ipykernel)",
   "language": "python",
   "name": "python3"
  },
  "language_info": {
   "codemirror_mode": {
    "name": "ipython",
    "version": 3
   },
   "file_extension": ".py",
   "mimetype": "text/x-python",
   "name": "python",
   "nbconvert_exporter": "python",
   "pygments_lexer": "ipython3",
   "version": "3.11.4"
  }
 },
 "nbformat": 4,
 "nbformat_minor": 5
}
