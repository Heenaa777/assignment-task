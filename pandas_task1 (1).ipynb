{
 "cells": [
  {
   "cell_type": "markdown",
   "id": "5d5ff628",
   "metadata": {},
   "source": [
    "# pandas Series\n",
    "1. Create pandas series with different `data types` in `different ways`\n",
    "2. Find the `attributes` of Series of [10,30,40,1,3,6,14,18,23] with index starts from `100`\n",
    "3. create salaries of `30 employee salaries randomly from 30000-90000` then `measure and describe` the data using pandas series.\n",
    "4. What are the `similaraties` and `differences` between pandas series and nnumpy array.Prove it with code.\n",
    "5. create pandas series with ranges from 100 to 150 then apply indexing and slicing on it."
   ]
  },
  {
   "cell_type": "code",
   "execution_count": null,
   "id": "34d219e0",
   "metadata": {},
   "outputs": [],
   "source": [
    "Create pandas series with different data types in different ways"
   ]
  },
  {
   "cell_type": "code",
   "execution_count": 9,
   "id": "59214734",
   "metadata": {},
   "outputs": [],
   "source": [
    "import pandas as pd"
   ]
  },
  {
   "cell_type": "code",
   "execution_count": 10,
   "id": "ad4f8dc0",
   "metadata": {},
   "outputs": [],
   "source": [
    "import numpy as np\n"
   ]
  },
  {
   "cell_type": "code",
   "execution_count": 11,
   "id": "251c688c",
   "metadata": {},
   "outputs": [],
   "source": [
    "# from list\n",
    "age = list(range(30,50))"
   ]
  },
  {
   "cell_type": "code",
   "execution_count": 13,
   "id": "9c3ed38a",
   "metadata": {},
   "outputs": [
    {
     "data": {
      "text/plain": [
       "array([30, 31, 32, 33, 34, 35, 36, 37, 38, 39, 40, 41, 42, 43, 44, 45, 46,\n",
       "       47, 48, 49])"
      ]
     },
     "execution_count": 13,
     "metadata": {},
     "output_type": "execute_result"
    }
   ],
   "source": [
    "np.array(age)"
   ]
  },
  {
   "cell_type": "code",
   "execution_count": 14,
   "id": "c3b574e9",
   "metadata": {},
   "outputs": [
    {
     "data": {
      "text/plain": [
       "0     30\n",
       "1     31\n",
       "2     32\n",
       "3     33\n",
       "4     34\n",
       "5     35\n",
       "6     36\n",
       "7     37\n",
       "8     38\n",
       "9     39\n",
       "10    40\n",
       "11    41\n",
       "12    42\n",
       "13    43\n",
       "14    44\n",
       "15    45\n",
       "16    46\n",
       "17    47\n",
       "18    48\n",
       "19    49\n",
       "dtype: int64"
      ]
     },
     "execution_count": 14,
     "metadata": {},
     "output_type": "execute_result"
    }
   ],
   "source": [
    "pd.Series(age)"
   ]
  },
  {
   "cell_type": "code",
   "execution_count": 17,
   "id": "57b2362f",
   "metadata": {},
   "outputs": [],
   "source": [
    "var = (\"heena\",\"ravali\",\"hafsa\",\"swetha\") # from tuple"
   ]
  },
  {
   "cell_type": "code",
   "execution_count": 18,
   "id": "6fb97b36",
   "metadata": {},
   "outputs": [
    {
     "data": {
      "text/plain": [
       "0     heena\n",
       "1    ravali\n",
       "2     hafsa\n",
       "3    swetha\n",
       "dtype: object"
      ]
     },
     "execution_count": 18,
     "metadata": {},
     "output_type": "execute_result"
    }
   ],
   "source": [
    "pd.Series(var)"
   ]
  },
  {
   "cell_type": "code",
   "execution_count": 21,
   "id": "48470833",
   "metadata": {},
   "outputs": [],
   "source": [
    "var1 = np.random.randint(10,30,10)\n",
    "var1 = pd.Series(var1,index=list(range(1,11)), dtype = \"float16\")"
   ]
  },
  {
   "cell_type": "code",
   "execution_count": 22,
   "id": "da42a1a0",
   "metadata": {},
   "outputs": [
    {
     "data": {
      "text/plain": [
       "1     13.0\n",
       "2     11.0\n",
       "3     12.0\n",
       "4     11.0\n",
       "5     16.0\n",
       "6     10.0\n",
       "7     24.0\n",
       "8     12.0\n",
       "9     28.0\n",
       "10    16.0\n",
       "dtype: float16"
      ]
     },
     "execution_count": 22,
     "metadata": {},
     "output_type": "execute_result"
    }
   ],
   "source": [
    "var1"
   ]
  },
  {
   "cell_type": "code",
   "execution_count": null,
   "id": "c7244807",
   "metadata": {},
   "outputs": [],
   "source": [
    "Find the attributes of Series of [10,30,40,1,3,6,14,18,23] with index starts from 100"
   ]
  },
  {
   "cell_type": "code",
   "execution_count": 26,
   "id": "e3c0ae61",
   "metadata": {},
   "outputs": [],
   "source": [
    "h = [10,30,40,1,3,6,14,18,23]\n",
    "h1 = pd.Series(h,index = list(range(100,109)))"
   ]
  },
  {
   "cell_type": "code",
   "execution_count": 27,
   "id": "132d2b56",
   "metadata": {},
   "outputs": [
    {
     "data": {
      "text/plain": [
       "100    10\n",
       "101    30\n",
       "102    40\n",
       "103     1\n",
       "104     3\n",
       "105     6\n",
       "106    14\n",
       "107    18\n",
       "108    23\n",
       "dtype: int64"
      ]
     },
     "execution_count": 27,
     "metadata": {},
     "output_type": "execute_result"
    }
   ],
   "source": [
    "h1"
   ]
  },
  {
   "cell_type": "code",
   "execution_count": 28,
   "id": "61261314",
   "metadata": {},
   "outputs": [
    {
     "data": {
      "text/plain": [
       "100    10\n",
       "101    30\n",
       "102    40\n",
       "103     1\n",
       "104     3\n",
       "dtype: int64"
      ]
     },
     "execution_count": 28,
     "metadata": {},
     "output_type": "execute_result"
    }
   ],
   "source": [
    "h1.head() # attributes"
   ]
  },
  {
   "cell_type": "code",
   "execution_count": 31,
   "id": "f4f30924",
   "metadata": {},
   "outputs": [
    {
     "data": {
      "text/plain": [
       "107    18\n",
       "108    23\n",
       "dtype: int64"
      ]
     },
     "execution_count": 31,
     "metadata": {},
     "output_type": "execute_result"
    }
   ],
   "source": [
    "h1.tail(2)"
   ]
  },
  {
   "cell_type": "code",
   "execution_count": 33,
   "id": "64bb9a80",
   "metadata": {},
   "outputs": [
    {
     "data": {
      "text/plain": [
       "count     9.000000\n",
       "mean     16.111111\n",
       "std      13.033078\n",
       "min       1.000000\n",
       "25%       6.000000\n",
       "50%      14.000000\n",
       "75%      23.000000\n",
       "max      40.000000\n",
       "dtype: float64"
      ]
     },
     "execution_count": 33,
     "metadata": {},
     "output_type": "execute_result"
    }
   ],
   "source": [
    "h1.describe()"
   ]
  },
  {
   "cell_type": "code",
   "execution_count": 35,
   "id": "95e2323c",
   "metadata": {},
   "outputs": [
    {
     "data": {
      "text/plain": [
       "1"
      ]
     },
     "execution_count": 35,
     "metadata": {},
     "output_type": "execute_result"
    }
   ],
   "source": [
    "h1.ndim"
   ]
  },
  {
   "cell_type": "code",
   "execution_count": 36,
   "id": "605daec0",
   "metadata": {},
   "outputs": [
    {
     "name": "stdout",
     "output_type": "stream",
     "text": [
      "<class 'pandas.core.series.Series'>\n",
      "Index: 9 entries, 100 to 108\n",
      "Series name: None\n",
      "Non-Null Count  Dtype\n",
      "--------------  -----\n",
      "9 non-null      int64\n",
      "dtypes: int64(1)\n",
      "memory usage: 144.0 bytes\n"
     ]
    }
   ],
   "source": [
    "h1.info()"
   ]
  },
  {
   "cell_type": "code",
   "execution_count": 38,
   "id": "75416db3",
   "metadata": {},
   "outputs": [
    {
     "data": {
      "text/plain": [
       "9"
      ]
     },
     "execution_count": 38,
     "metadata": {},
     "output_type": "execute_result"
    }
   ],
   "source": [
    "h1.size"
   ]
  },
  {
   "cell_type": "code",
   "execution_count": null,
   "id": "f56510c5",
   "metadata": {},
   "outputs": [],
   "source": [
    "create salaries of 30 employee salaries randomly from 30000-90000 then measure and describe the data using pandas series."
   ]
  },
  {
   "cell_type": "code",
   "execution_count": 39,
   "id": "918f1188",
   "metadata": {},
   "outputs": [],
   "source": [
    "salary = np.random.randint(30000,90000,30)\n"
   ]
  },
  {
   "cell_type": "code",
   "execution_count": 41,
   "id": "e25aad1d",
   "metadata": {},
   "outputs": [
    {
     "data": {
      "text/plain": [
       "0     84284\n",
       "1     71224\n",
       "2     35365\n",
       "3     61343\n",
       "4     87875\n",
       "5     86496\n",
       "6     81101\n",
       "7     39441\n",
       "8     72678\n",
       "9     89924\n",
       "10    87316\n",
       "11    79784\n",
       "12    85205\n",
       "13    57602\n",
       "14    86558\n",
       "15    87528\n",
       "16    74669\n",
       "17    85485\n",
       "18    71716\n",
       "19    80273\n",
       "20    37498\n",
       "21    35656\n",
       "22    53956\n",
       "23    72889\n",
       "24    70824\n",
       "25    31063\n",
       "26    44829\n",
       "27    35664\n",
       "28    79540\n",
       "29    41809\n",
       "dtype: int32"
      ]
     },
     "execution_count": 41,
     "metadata": {},
     "output_type": "execute_result"
    }
   ],
   "source": [
    "sal = pd.Series(salary)\n",
    "sal"
   ]
  },
  {
   "cell_type": "code",
   "execution_count": 42,
   "id": "7f9f505b",
   "metadata": {},
   "outputs": [
    {
     "data": {
      "text/plain": [
       "66986.5"
      ]
     },
     "execution_count": 42,
     "metadata": {},
     "output_type": "execute_result"
    }
   ],
   "source": [
    "sal.mean()"
   ]
  },
  {
   "cell_type": "code",
   "execution_count": 43,
   "id": "09cbf22e",
   "metadata": {},
   "outputs": [
    {
     "data": {
      "text/plain": [
       "72783.5"
      ]
     },
     "execution_count": 43,
     "metadata": {},
     "output_type": "execute_result"
    }
   ],
   "source": [
    "sal.median()"
   ]
  },
  {
   "cell_type": "code",
   "execution_count": 46,
   "id": "8e1ae7b2",
   "metadata": {},
   "outputs": [
    {
     "data": {
      "text/plain": [
       "0     31063\n",
       "1     35365\n",
       "2     35656\n",
       "3     35664\n",
       "4     37498\n",
       "5     39441\n",
       "6     41809\n",
       "7     44829\n",
       "8     53956\n",
       "9     57602\n",
       "10    61343\n",
       "11    70824\n",
       "12    71224\n",
       "13    71716\n",
       "14    72678\n",
       "15    72889\n",
       "16    74669\n",
       "17    79540\n",
       "18    79784\n",
       "19    80273\n",
       "20    81101\n",
       "21    84284\n",
       "22    85205\n",
       "23    85485\n",
       "24    86496\n",
       "25    86558\n",
       "26    87316\n",
       "27    87528\n",
       "28    87875\n",
       "29    89924\n",
       "dtype: int32"
      ]
     },
     "execution_count": 46,
     "metadata": {},
     "output_type": "execute_result"
    }
   ],
   "source": [
    "sal.mode()"
   ]
  },
  {
   "cell_type": "code",
   "execution_count": 47,
   "id": "dbeb3c45",
   "metadata": {},
   "outputs": [
    {
     "data": {
      "text/plain": [
       "89924"
      ]
     },
     "execution_count": 47,
     "metadata": {},
     "output_type": "execute_result"
    }
   ],
   "source": [
    "sal.max()"
   ]
  },
  {
   "cell_type": "code",
   "execution_count": 48,
   "id": "d2c512b4",
   "metadata": {},
   "outputs": [
    {
     "data": {
      "text/plain": [
       "31063"
      ]
     },
     "execution_count": 48,
     "metadata": {},
     "output_type": "execute_result"
    }
   ],
   "source": [
    "sal.min()"
   ]
  },
  {
   "cell_type": "code",
   "execution_count": 49,
   "id": "6a7eb602",
   "metadata": {},
   "outputs": [
    {
     "data": {
      "text/plain": [
       "20093.842633400465"
      ]
     },
     "execution_count": 49,
     "metadata": {},
     "output_type": "execute_result"
    }
   ],
   "source": [
    "sal.std()"
   ]
  },
  {
   "cell_type": "code",
   "execution_count": 50,
   "id": "8f331473",
   "metadata": {},
   "outputs": [
    {
     "data": {
      "text/plain": [
       "403762511.7758621"
      ]
     },
     "execution_count": 50,
     "metadata": {},
     "output_type": "execute_result"
    }
   ],
   "source": [
    "sal.var()"
   ]
  },
  {
   "cell_type": "code",
   "execution_count": 51,
   "id": "b349dd0d",
   "metadata": {},
   "outputs": [
    {
     "data": {
      "text/plain": [
       "47110.75"
      ]
     },
     "execution_count": 51,
     "metadata": {},
     "output_type": "execute_result"
    }
   ],
   "source": [
    "sal.quantile(0.25)"
   ]
  },
  {
   "cell_type": "code",
   "execution_count": 52,
   "id": "4d588da6",
   "metadata": {},
   "outputs": [
    {
     "data": {
      "text/plain": [
       "84974.75"
      ]
     },
     "execution_count": 52,
     "metadata": {},
     "output_type": "execute_result"
    }
   ],
   "source": [
    "sal.quantile(0.75)"
   ]
  },
  {
   "cell_type": "code",
   "execution_count": null,
   "id": "982e561a",
   "metadata": {},
   "outputs": [],
   "source": [
    "What are the similaraties and differences between pandas series and nnumpy array.Prove it with cod"
   ]
  },
  {
   "cell_type": "code",
   "execution_count": null,
   "id": "8cb114b5",
   "metadata": {},
   "outputs": [],
   "source": [
    "* numpy is containing homogeneous data\n",
    "* numpy dont give any index to the values"
   ]
  },
  {
   "cell_type": "code",
   "execution_count": null,
   "id": "b0781481",
   "metadata": {},
   "outputs": [],
   "source": [
    "* pandas are heterogenius\n",
    "* pandas are give indexes to numbers"
   ]
  },
  {
   "cell_type": "code",
   "execution_count": 53,
   "id": "fb2d81da",
   "metadata": {},
   "outputs": [
    {
     "data": {
      "text/plain": [
       "array([20443, 29970, 32267, 22487, 39786, 23713, 39629, 34662, 24341,\n",
       "       35057])"
      ]
     },
     "execution_count": 53,
     "metadata": {},
     "output_type": "execute_result"
    }
   ],
   "source": [
    "#numpy\n",
    "salary = np.random.randint(20000,40000,10)\n",
    "salary"
   ]
  },
  {
   "cell_type": "code",
   "execution_count": 54,
   "id": "b951d602",
   "metadata": {},
   "outputs": [],
   "source": [
    "sal = pd.Series(salary,index=list(range(1,11))) # pandas"
   ]
  },
  {
   "cell_type": "code",
   "execution_count": 55,
   "id": "278bd805",
   "metadata": {},
   "outputs": [
    {
     "data": {
      "text/plain": [
       "1     20443\n",
       "2     29970\n",
       "3     32267\n",
       "4     22487\n",
       "5     39786\n",
       "6     23713\n",
       "7     39629\n",
       "8     34662\n",
       "9     24341\n",
       "10    35057\n",
       "dtype: int32"
      ]
     },
     "execution_count": 55,
     "metadata": {},
     "output_type": "execute_result"
    }
   ],
   "source": [
    "sal"
   ]
  },
  {
   "cell_type": "code",
   "execution_count": null,
   "id": "6e3bc2d4",
   "metadata": {},
   "outputs": [],
   "source": [
    "create pandas series with ranges from 100 to 150 then apply indexing and slicing on it."
   ]
  },
  {
   "cell_type": "code",
   "execution_count": 60,
   "id": "8c7840d0",
   "metadata": {},
   "outputs": [],
   "source": [
    "h1 = list(range(100,150))"
   ]
  },
  {
   "cell_type": "code",
   "execution_count": 61,
   "id": "9ba228f8",
   "metadata": {},
   "outputs": [],
   "source": [
    "h2 =  pd.Series(h1)"
   ]
  },
  {
   "cell_type": "code",
   "execution_count": 62,
   "id": "03e8fff9",
   "metadata": {},
   "outputs": [
    {
     "data": {
      "text/plain": [
       "0     100\n",
       "1     101\n",
       "2     102\n",
       "3     103\n",
       "4     104\n",
       "5     105\n",
       "6     106\n",
       "7     107\n",
       "8     108\n",
       "9     109\n",
       "10    110\n",
       "11    111\n",
       "12    112\n",
       "13    113\n",
       "14    114\n",
       "15    115\n",
       "16    116\n",
       "17    117\n",
       "18    118\n",
       "19    119\n",
       "20    120\n",
       "21    121\n",
       "22    122\n",
       "23    123\n",
       "24    124\n",
       "25    125\n",
       "26    126\n",
       "27    127\n",
       "28    128\n",
       "29    129\n",
       "30    130\n",
       "31    131\n",
       "32    132\n",
       "33    133\n",
       "34    134\n",
       "35    135\n",
       "36    136\n",
       "37    137\n",
       "38    138\n",
       "39    139\n",
       "40    140\n",
       "41    141\n",
       "42    142\n",
       "43    143\n",
       "44    144\n",
       "45    145\n",
       "46    146\n",
       "47    147\n",
       "48    148\n",
       "49    149\n",
       "dtype: int64"
      ]
     },
     "execution_count": 62,
     "metadata": {},
     "output_type": "execute_result"
    }
   ],
   "source": [
    "h2"
   ]
  },
  {
   "cell_type": "code",
   "execution_count": 63,
   "id": "02be4a7b",
   "metadata": {},
   "outputs": [
    {
     "data": {
      "text/plain": [
       "107"
      ]
     },
     "execution_count": 63,
     "metadata": {},
     "output_type": "execute_result"
    }
   ],
   "source": [
    "h2[7]   # indexing"
   ]
  },
  {
   "cell_type": "code",
   "execution_count": 64,
   "id": "3ddb9eb4",
   "metadata": {},
   "outputs": [
    {
     "data": {
      "text/plain": [
       "1    101\n",
       "2    102\n",
       "3    103\n",
       "4    104\n",
       "5    105\n",
       "6    106\n",
       "dtype: int64"
      ]
     },
     "execution_count": 64,
     "metadata": {},
     "output_type": "execute_result"
    }
   ],
   "source": [
    "h2[1:7] # slicing"
   ]
  },
  {
   "cell_type": "code",
   "execution_count": null,
   "id": "eb4a9334",
   "metadata": {},
   "outputs": [],
   "source": []
  }
 ],
 "metadata": {
  "kernelspec": {
   "display_name": "Python 3 (ipykernel)",
   "language": "python",
   "name": "python3"
  },
  "language_info": {
   "codemirror_mode": {
    "name": "ipython",
    "version": 3
   },
   "file_extension": ".py",
   "mimetype": "text/x-python",
   "name": "python",
   "nbconvert_exporter": "python",
   "pygments_lexer": "ipython3",
   "version": "3.11.4"
  }
 },
 "nbformat": 4,
 "nbformat_minor": 5
}
