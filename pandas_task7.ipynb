{
 "cells": [
  {
   "cell_type": "markdown",
   "id": "6520d524",
   "metadata": {},
   "source": [
    "Data Cleaning - Deal with structural errors, transformation and standardization..\n",
    "\n",
    "Data Manipulation - concatenate and merge the data."
   ]
  },
  {
   "cell_type": "markdown",
   "id": "a6106628",
   "metadata": {},
   "source": [
    "# Importing libraries"
   ]
  },
  {
   "cell_type": "code",
   "execution_count": 3,
   "id": "efa204ca",
   "metadata": {},
   "outputs": [],
   "source": [
    "import numpy as np\n",
    "import pandas as pd"
   ]
  },
  {
   "cell_type": "markdown",
   "id": "8356b3db",
   "metadata": {},
   "source": [
    "# Importing  the data "
   ]
  },
  {
   "cell_type": "code",
   "execution_count": 4,
   "id": "b900e6a5",
   "metadata": {},
   "outputs": [],
   "source": [
    "df1 = pd.read_excel(r\"C:\\Users\\heena\\Downloads\\data.xlsx\",sheet_name = 0)\n",
    "df2 = pd.read_excel(r\"C:\\Users\\heena\\Downloads\\data.xlsx\",sheet_name = 1)"
   ]
  },
  {
   "cell_type": "code",
   "execution_count": 5,
   "id": "3a5c06d1",
   "metadata": {},
   "outputs": [
    {
     "data": {
      "text/html": [
       "<div>\n",
       "<style scoped>\n",
       "    .dataframe tbody tr th:only-of-type {\n",
       "        vertical-align: middle;\n",
       "    }\n",
       "\n",
       "    .dataframe tbody tr th {\n",
       "        vertical-align: top;\n",
       "    }\n",
       "\n",
       "    .dataframe thead th {\n",
       "        text-align: right;\n",
       "    }\n",
       "</style>\n",
       "<table border=\"1\" class=\"dataframe\">\n",
       "  <thead>\n",
       "    <tr style=\"text-align: right;\">\n",
       "      <th></th>\n",
       "      <th>InvoiceNo</th>\n",
       "      <th>StockCode</th>\n",
       "      <th>Description</th>\n",
       "      <th>Quantity</th>\n",
       "      <th>UnitPrice</th>\n",
       "      <th>Country</th>\n",
       "    </tr>\n",
       "  </thead>\n",
       "  <tbody>\n",
       "    <tr>\n",
       "      <th>0</th>\n",
       "      <td>536365</td>\n",
       "      <td>85123A</td>\n",
       "      <td>WHITE HANGING HEART T-LIGHT HOLDER</td>\n",
       "      <td>6</td>\n",
       "      <td>2.55</td>\n",
       "      <td>United Kingdom</td>\n",
       "    </tr>\n",
       "    <tr>\n",
       "      <th>1</th>\n",
       "      <td>536365</td>\n",
       "      <td>71053</td>\n",
       "      <td>WHITE METAL LANTERN</td>\n",
       "      <td>#6</td>\n",
       "      <td>3.39</td>\n",
       "      <td>United Kingdom</td>\n",
       "    </tr>\n",
       "    <tr>\n",
       "      <th>2</th>\n",
       "      <td>536365</td>\n",
       "      <td>84406B</td>\n",
       "      <td>CREAM CUPID HEARTS COAT HANGER</td>\n",
       "      <td>8</td>\n",
       "      <td>4.23</td>\n",
       "      <td>United Kingdom</td>\n",
       "    </tr>\n",
       "    <tr>\n",
       "      <th>3</th>\n",
       "      <td>536365</td>\n",
       "      <td>84029G</td>\n",
       "      <td>KNITTED UNION FLAG HOT WATER BOTTLE</td>\n",
       "      <td>6</td>\n",
       "      <td>5.07</td>\n",
       "      <td>United Kingdom</td>\n",
       "    </tr>\n",
       "    <tr>\n",
       "      <th>4</th>\n",
       "      <td>536365</td>\n",
       "      <td>84029E</td>\n",
       "      <td>RED WOOLLY HOTTIE WHITE HEART.</td>\n",
       "      <td>6</td>\n",
       "      <td>5.91</td>\n",
       "      <td>United Kingdom</td>\n",
       "    </tr>\n",
       "  </tbody>\n",
       "</table>\n",
       "</div>"
      ],
      "text/plain": [
       "  InvoiceNo StockCode                          Description Quantity  \\\n",
       "0    536365    85123A   WHITE HANGING HEART T-LIGHT HOLDER        6   \n",
       "1    536365     71053                  WHITE METAL LANTERN       #6   \n",
       "2    536365    84406B       CREAM CUPID HEARTS COAT HANGER        8   \n",
       "3    536365    84029G  KNITTED UNION FLAG HOT WATER BOTTLE        6   \n",
       "4    536365    84029E       RED WOOLLY HOTTIE WHITE HEART.        6   \n",
       "\n",
       "   UnitPrice         Country  \n",
       "0       2.55  United Kingdom  \n",
       "1       3.39  United Kingdom  \n",
       "2       4.23  United Kingdom  \n",
       "3       5.07  United Kingdom  \n",
       "4       5.91  United Kingdom  "
      ]
     },
     "execution_count": 5,
     "metadata": {},
     "output_type": "execute_result"
    }
   ],
   "source": [
    "df1.head()"
   ]
  },
  {
   "cell_type": "code",
   "execution_count": 6,
   "id": "d97f2833",
   "metadata": {},
   "outputs": [
    {
     "data": {
      "text/html": [
       "<div>\n",
       "<style scoped>\n",
       "    .dataframe tbody tr th:only-of-type {\n",
       "        vertical-align: middle;\n",
       "    }\n",
       "\n",
       "    .dataframe tbody tr th {\n",
       "        vertical-align: top;\n",
       "    }\n",
       "\n",
       "    .dataframe thead th {\n",
       "        text-align: right;\n",
       "    }\n",
       "</style>\n",
       "<table border=\"1\" class=\"dataframe\">\n",
       "  <thead>\n",
       "    <tr style=\"text-align: right;\">\n",
       "      <th></th>\n",
       "      <th>InvoiceNo</th>\n",
       "      <th>CustomerID</th>\n",
       "    </tr>\n",
       "  </thead>\n",
       "  <tbody>\n",
       "    <tr>\n",
       "      <th>0</th>\n",
       "      <td>536365</td>\n",
       "      <td>17850.0</td>\n",
       "    </tr>\n",
       "    <tr>\n",
       "      <th>1</th>\n",
       "      <td>536365</td>\n",
       "      <td>17850.0</td>\n",
       "    </tr>\n",
       "    <tr>\n",
       "      <th>2</th>\n",
       "      <td>536365</td>\n",
       "      <td>17850.0</td>\n",
       "    </tr>\n",
       "    <tr>\n",
       "      <th>3</th>\n",
       "      <td>536365</td>\n",
       "      <td>17850.0</td>\n",
       "    </tr>\n",
       "    <tr>\n",
       "      <th>4</th>\n",
       "      <td>536365</td>\n",
       "      <td>17850.0</td>\n",
       "    </tr>\n",
       "  </tbody>\n",
       "</table>\n",
       "</div>"
      ],
      "text/plain": [
       "  InvoiceNo  CustomerID\n",
       "0    536365     17850.0\n",
       "1    536365     17850.0\n",
       "2    536365     17850.0\n",
       "3    536365     17850.0\n",
       "4    536365     17850.0"
      ]
     },
     "execution_count": 6,
     "metadata": {},
     "output_type": "execute_result"
    }
   ],
   "source": [
    "df2.head()"
   ]
  },
  {
   "cell_type": "markdown",
   "id": "d2992dab",
   "metadata": {},
   "source": [
    "## structural errors"
   ]
  },
  {
   "cell_type": "code",
   "execution_count": 7,
   "id": "03abf397",
   "metadata": {},
   "outputs": [],
   "source": [
    "df1[\"Quantity\"]  = df1[\"Quantity\"].replace(r\"[#*&]\",\"\",regex= True)"
   ]
  },
  {
   "cell_type": "code",
   "execution_count": 8,
   "id": "f3ab993b",
   "metadata": {},
   "outputs": [
    {
     "data": {
      "text/plain": [
       "0       6\n",
       "1       6\n",
       "2       8\n",
       "3       6\n",
       "4       6\n",
       "       ..\n",
       "229    24\n",
       "230    24\n",
       "231    24\n",
       "232    48\n",
       "233    96\n",
       "Name: Quantity, Length: 234, dtype: object"
      ]
     },
     "execution_count": 8,
     "metadata": {},
     "output_type": "execute_result"
    }
   ],
   "source": [
    "df1[\"Quantity\"] "
   ]
  },
  {
   "cell_type": "code",
   "execution_count": 9,
   "id": "76658ba4",
   "metadata": {},
   "outputs": [],
   "source": [
    "df1[\"Quantity\"]  = df1[\"Quantity\"].replace(r\"[#*&]\",\"\",regex= True).astype(\"int16\")"
   ]
  },
  {
   "cell_type": "code",
   "execution_count": 10,
   "id": "4ac487e5",
   "metadata": {},
   "outputs": [
    {
     "data": {
      "text/plain": [
       "0       6\n",
       "1       6\n",
       "2       8\n",
       "3       6\n",
       "4       6\n",
       "       ..\n",
       "229    24\n",
       "230    24\n",
       "231    24\n",
       "232    48\n",
       "233    96\n",
       "Name: Quantity, Length: 234, dtype: int16"
      ]
     },
     "execution_count": 10,
     "metadata": {},
     "output_type": "execute_result"
    }
   ],
   "source": [
    "df1[\"Quantity\"]"
   ]
  },
  {
   "cell_type": "markdown",
   "id": "c62fe5dc",
   "metadata": {},
   "source": [
    "## Transformation"
   ]
  },
  {
   "cell_type": "code",
   "execution_count": 7,
   "id": "163e2aee",
   "metadata": {},
   "outputs": [
    {
     "data": {
      "text/plain": [
       "InvoiceNo      0\n",
       "StockCode      0\n",
       "Description    0\n",
       "Quantity       0\n",
       "UnitPrice      0\n",
       "Country        0\n",
       "dtype: int64"
      ]
     },
     "execution_count": 7,
     "metadata": {},
     "output_type": "execute_result"
    }
   ],
   "source": [
    "df1.isna().sum() # there is no missing values"
   ]
  },
  {
   "cell_type": "code",
   "execution_count": 9,
   "id": "6baf846f",
   "metadata": {},
   "outputs": [
    {
     "data": {
      "text/plain": [
       "InvoiceNo          0\n",
       "CustomerID    135080\n",
       "dtype: int64"
      ]
     },
     "execution_count": 9,
     "metadata": {},
     "output_type": "execute_result"
    }
   ],
   "source": [
    "df2.isna().sum() # in sheet no 1 we have missing values"
   ]
  },
  {
   "cell_type": "code",
   "execution_count": 10,
   "id": "ecc393bf",
   "metadata": {},
   "outputs": [],
   "source": [
    "df2[\"CustomerID\"].fillna(df2[\"CustomerID\"].median(),inplace = True)"
   ]
  },
  {
   "cell_type": "code",
   "execution_count": 11,
   "id": "679d85e7",
   "metadata": {},
   "outputs": [
    {
     "data": {
      "text/plain": [
       "InvoiceNo     0\n",
       "CustomerID    0\n",
       "dtype: int64"
      ]
     },
     "execution_count": 11,
     "metadata": {},
     "output_type": "execute_result"
    }
   ],
   "source": [
    "df2.isna().sum() # missing values are filled"
   ]
  },
  {
   "cell_type": "code",
   "execution_count": 13,
   "id": "cf030496",
   "metadata": {},
   "outputs": [
    {
     "data": {
      "text/plain": [
       "(23.22222222222222, 6.0)"
      ]
     },
     "execution_count": 13,
     "metadata": {},
     "output_type": "execute_result"
    }
   ],
   "source": [
    "df1[\"Quantity\"].mean(),df1[\"Quantity\"].median()"
   ]
  },
  {
   "cell_type": "code",
   "execution_count": 14,
   "id": "ef164d8e",
   "metadata": {},
   "outputs": [
    {
     "name": "stderr",
     "output_type": "stream",
     "text": [
      "C:\\ProgramData\\anaconda3\\Lib\\site-packages\\pandas\\core\\arraylike.py:402: RuntimeWarning: invalid value encountered in log\n",
      "  result = getattr(ufunc, method)(*inputs, **kwargs)\n"
     ]
    }
   ],
   "source": [
    "log_quantity = np.log(df1[\"Quantity\"])"
   ]
  },
  {
   "cell_type": "code",
   "execution_count": 15,
   "id": "774c0094",
   "metadata": {},
   "outputs": [
    {
     "data": {
      "text/plain": [
       "(2.1795132, 1.7917594909667969)"
      ]
     },
     "execution_count": 15,
     "metadata": {},
     "output_type": "execute_result"
    }
   ],
   "source": [
    " np.log(df1[\"Quantity\"]).mean(), np.log(df1[\"Quantity\"]).median() # after transforming the values become change"
   ]
  },
  {
   "cell_type": "code",
   "execution_count": 16,
   "id": "f1044b00",
   "metadata": {},
   "outputs": [
    {
     "data": {
      "text/plain": [
       "<Axes: ylabel='Density'>"
      ]
     },
     "execution_count": 16,
     "metadata": {},
     "output_type": "execute_result"
    },
    {
     "data": {
      "image/png": "[encoded data removed]",
      "text/plain": [
       "<Figure size 640x480 with 1 Axes>"
      ]
     },
     "metadata": {},
     "output_type": "display_data"
    }
   ],
   "source": [
    "log_quantity.plot(kind = \"kde\")"
   ]
  },
  {
   "cell_type": "code",
   "execution_count": 18,
   "id": "0a869286",
   "metadata": {},
   "outputs": [
    {
     "name": "stderr",
     "output_type": "stream",
     "text": [
      "C:\\ProgramData\\anaconda3\\Lib\\site-packages\\pandas\\core\\arraylike.py:402: RuntimeWarning: invalid value encountered in sqrt\n",
      "  result = getattr(ufunc, method)(*inputs, **kwargs)\n"
     ]
    }
   ],
   "source": [
    "sqrt_quantity = np.sqrt(df1[\"Quantity\"])"
   ]
  },
  {
   "cell_type": "code",
   "execution_count": 19,
   "id": "45e412bd",
   "metadata": {},
   "outputs": [
    {
     "data": {
      "text/plain": [
       "(3.7301188, 2.4494898319244385)"
      ]
     },
     "execution_count": 19,
     "metadata": {},
     "output_type": "execute_result"
    }
   ],
   "source": [
    "np.sqrt(df1[\"Quantity\"]).mean(),np.sqrt(df1[\"Quantity\"]).median()"
   ]
  },
  {
   "cell_type": "code",
   "execution_count": 20,
   "id": "107dc8d7",
   "metadata": {},
   "outputs": [
    {
     "data": {
      "text/plain": [
       "<Axes: ylabel='Density'>"
      ]
     },
     "execution_count": 20,
     "metadata": {},
     "output_type": "execute_result"
    },
    {
     "data": {
      "image/png": "[encoded data removed]",
      "text/plain": [
       "<Figure size 640x480 with 1 Axes>"
      ]
     },
     "metadata": {},
     "output_type": "display_data"
    }
   ],
   "source": [
    "sqrt_quantity.plot(kind = \"kde\")"
   ]
  },
  {
   "cell_type": "code",
   "execution_count": 21,
   "id": "004f0992",
   "metadata": {},
   "outputs": [],
   "source": [
    "recipe_quantity = np.reciprocal(df1[\"Quantity\"])"
   ]
  },
  {
   "cell_type": "code",
   "execution_count": 22,
   "id": "95dc1fab",
   "metadata": {},
   "outputs": [
    {
     "data": {
      "text/plain": [
       "(0.05128205128205128, 0.0)"
      ]
     },
     "execution_count": 22,
     "metadata": {},
     "output_type": "execute_result"
    }
   ],
   "source": [
    "np.reciprocal(df1[\"Quantity\"]).mean(),np.reciprocal(df1[\"Quantity\"]).median()"
   ]
  },
  {
   "cell_type": "code",
   "execution_count": 23,
   "id": "7b342558",
   "metadata": {},
   "outputs": [
    {
     "data": {
      "text/plain": [
       "<Axes: ylabel='Density'>"
      ]
     },
     "execution_count": 23,
     "metadata": {},
     "output_type": "execute_result"
    },
    {
     "data": {
      "image/png": "[encoded data removed]",
      "text/plain": [
       "<Figure size 640x480 with 1 Axes>"
      ]
     },
     "metadata": {},
     "output_type": "display_data"
    }
   ],
   "source": [
    "recipe_quantity.plot(kind = \"kde\") # reciprocal giving the best results"
   ]
  },
  {
   "cell_type": "markdown",
   "id": "071bf8a2",
   "metadata": {},
   "source": [
    "# standardization."
   ]
  },
  {
   "cell_type": "code",
   "execution_count": 26,
   "id": "8afff641",
   "metadata": {},
   "outputs": [],
   "source": [
    "def standard(x): # the data is not distributed in normal thats why we are using standardization\n",
    "    n = (x-df1[\"Quantity\"]).mean()/df1['Quantity'].std()\n",
    "    return n"
   ]
  },
  {
   "cell_type": "code",
   "execution_count": 27,
   "id": "221aafbd",
   "metadata": {},
   "outputs": [],
   "source": [
    "standard = df1[\"Quantity\"].apply(standard)"
   ]
  },
  {
   "cell_type": "code",
   "execution_count": 28,
   "id": "c831df52",
   "metadata": {},
   "outputs": [
    {
     "data": {
      "text/plain": [
       "0     -0.329666\n",
       "1     -0.329666\n",
       "2     -0.291383\n",
       "3     -0.329666\n",
       "4     -0.329666\n",
       "         ...   \n",
       "229    0.014888\n",
       "230    0.014888\n",
       "231    0.014888\n",
       "232    0.474294\n",
       "233    1.393106\n",
       "Name: Quantity, Length: 234, dtype: float64"
      ]
     },
     "execution_count": 28,
     "metadata": {},
     "output_type": "execute_result"
    }
   ],
   "source": [
    "standard # after standardization the values are changed"
   ]
  },
  {
   "cell_type": "markdown",
   "id": "6d2adcda",
   "metadata": {},
   "source": [
    "# concatenate and merge the data"
   ]
  },
  {
   "cell_type": "code",
   "execution_count": 32,
   "id": "7be414d8",
   "metadata": {},
   "outputs": [],
   "source": [
    "concat = pd.concat([df1,df2],axis = 0,ignore_index = True) # if we dont take axis = 0 then also ok coz it takes default"
   ]
  },
  {
   "cell_type": "code",
   "execution_count": 33,
   "id": "77a035cc",
   "metadata": {},
   "outputs": [
    {
     "data": {
      "text/html": [
       "<div>\n",
       "<style scoped>\n",
       "    .dataframe tbody tr th:only-of-type {\n",
       "        vertical-align: middle;\n",
       "    }\n",
       "\n",
       "    .dataframe tbody tr th {\n",
       "        vertical-align: top;\n",
       "    }\n",
       "\n",
       "    .dataframe thead th {\n",
       "        text-align: right;\n",
       "    }\n",
       "</style>\n",
       "<table border=\"1\" class=\"dataframe\">\n",
       "  <thead>\n",
       "    <tr style=\"text-align: right;\">\n",
       "      <th></th>\n",
       "      <th>InvoiceNo</th>\n",
       "      <th>StockCode</th>\n",
       "      <th>Description</th>\n",
       "      <th>Quantity</th>\n",
       "      <th>UnitPrice</th>\n",
       "      <th>Country</th>\n",
       "      <th>CustomerID</th>\n",
       "    </tr>\n",
       "  </thead>\n",
       "  <tbody>\n",
       "    <tr>\n",
       "      <th>0</th>\n",
       "      <td>536365</td>\n",
       "      <td>85123A</td>\n",
       "      <td>WHITE HANGING HEART T-LIGHT HOLDER</td>\n",
       "      <td>6.0</td>\n",
       "      <td>2.55</td>\n",
       "      <td>United Kingdom</td>\n",
       "      <td>NaN</td>\n",
       "    </tr>\n",
       "    <tr>\n",
       "      <th>1</th>\n",
       "      <td>536365</td>\n",
       "      <td>71053</td>\n",
       "      <td>WHITE METAL LANTERN</td>\n",
       "      <td>6.0</td>\n",
       "      <td>3.39</td>\n",
       "      <td>United Kingdom</td>\n",
       "      <td>NaN</td>\n",
       "    </tr>\n",
       "    <tr>\n",
       "      <th>2</th>\n",
       "      <td>536365</td>\n",
       "      <td>84406B</td>\n",
       "      <td>CREAM CUPID HEARTS COAT HANGER</td>\n",
       "      <td>8.0</td>\n",
       "      <td>4.23</td>\n",
       "      <td>United Kingdom</td>\n",
       "      <td>NaN</td>\n",
       "    </tr>\n",
       "    <tr>\n",
       "      <th>3</th>\n",
       "      <td>536365</td>\n",
       "      <td>84029G</td>\n",
       "      <td>KNITTED UNION FLAG HOT WATER BOTTLE</td>\n",
       "      <td>6.0</td>\n",
       "      <td>5.07</td>\n",
       "      <td>United Kingdom</td>\n",
       "      <td>NaN</td>\n",
       "    </tr>\n",
       "    <tr>\n",
       "      <th>4</th>\n",
       "      <td>536365</td>\n",
       "      <td>84029E</td>\n",
       "      <td>RED WOOLLY HOTTIE WHITE HEART.</td>\n",
       "      <td>6.0</td>\n",
       "      <td>5.91</td>\n",
       "      <td>United Kingdom</td>\n",
       "      <td>NaN</td>\n",
       "    </tr>\n",
       "    <tr>\n",
       "      <th>...</th>\n",
       "      <td>...</td>\n",
       "      <td>...</td>\n",
       "      <td>...</td>\n",
       "      <td>...</td>\n",
       "      <td>...</td>\n",
       "      <td>...</td>\n",
       "      <td>...</td>\n",
       "    </tr>\n",
       "    <tr>\n",
       "      <th>542138</th>\n",
       "      <td>581587</td>\n",
       "      <td>NaN</td>\n",
       "      <td>NaN</td>\n",
       "      <td>NaN</td>\n",
       "      <td>NaN</td>\n",
       "      <td>NaN</td>\n",
       "      <td>12680.0</td>\n",
       "    </tr>\n",
       "    <tr>\n",
       "      <th>542139</th>\n",
       "      <td>581587</td>\n",
       "      <td>NaN</td>\n",
       "      <td>NaN</td>\n",
       "      <td>NaN</td>\n",
       "      <td>NaN</td>\n",
       "      <td>NaN</td>\n",
       "      <td>12680.0</td>\n",
       "    </tr>\n",
       "    <tr>\n",
       "      <th>542140</th>\n",
       "      <td>581587</td>\n",
       "      <td>NaN</td>\n",
       "      <td>NaN</td>\n",
       "      <td>NaN</td>\n",
       "      <td>NaN</td>\n",
       "      <td>NaN</td>\n",
       "      <td>12680.0</td>\n",
       "    </tr>\n",
       "    <tr>\n",
       "      <th>542141</th>\n",
       "      <td>581587</td>\n",
       "      <td>NaN</td>\n",
       "      <td>NaN</td>\n",
       "      <td>NaN</td>\n",
       "      <td>NaN</td>\n",
       "      <td>NaN</td>\n",
       "      <td>12680.0</td>\n",
       "    </tr>\n",
       "    <tr>\n",
       "      <th>542142</th>\n",
       "      <td>581587</td>\n",
       "      <td>NaN</td>\n",
       "      <td>NaN</td>\n",
       "      <td>NaN</td>\n",
       "      <td>NaN</td>\n",
       "      <td>NaN</td>\n",
       "      <td>12680.0</td>\n",
       "    </tr>\n",
       "  </tbody>\n",
       "</table>\n",
       "<p>542143 rows × 7 columns</p>\n",
       "</div>"
      ],
      "text/plain": [
       "       InvoiceNo StockCode                          Description  Quantity  \\\n",
       "0         536365    85123A   WHITE HANGING HEART T-LIGHT HOLDER       6.0   \n",
       "1         536365     71053                  WHITE METAL LANTERN       6.0   \n",
       "2         536365    84406B       CREAM CUPID HEARTS COAT HANGER       8.0   \n",
       "3         536365    84029G  KNITTED UNION FLAG HOT WATER BOTTLE       6.0   \n",
       "4         536365    84029E       RED WOOLLY HOTTIE WHITE HEART.       6.0   \n",
       "...          ...       ...                                  ...       ...   \n",
       "542138    581587       NaN                                  NaN       NaN   \n",
       "542139    581587       NaN                                  NaN       NaN   \n",
       "542140    581587       NaN                                  NaN       NaN   \n",
       "542141    581587       NaN                                  NaN       NaN   \n",
       "542142    581587       NaN                                  NaN       NaN   \n",
       "\n",
       "        UnitPrice         Country  CustomerID  \n",
       "0            2.55  United Kingdom         NaN  \n",
       "1            3.39  United Kingdom         NaN  \n",
       "2            4.23  United Kingdom         NaN  \n",
       "3            5.07  United Kingdom         NaN  \n",
       "4            5.91  United Kingdom         NaN  \n",
       "...           ...             ...         ...  \n",
       "542138        NaN             NaN     12680.0  \n",
       "542139        NaN             NaN     12680.0  \n",
       "542140        NaN             NaN     12680.0  \n",
       "542141        NaN             NaN     12680.0  \n",
       "542142        NaN             NaN     12680.0  \n",
       "\n",
       "[542143 rows x 7 columns]"
      ]
     },
     "execution_count": 33,
     "metadata": {},
     "output_type": "execute_result"
    }
   ],
   "source": [
    "concat"
   ]
  },
  {
   "cell_type": "code",
   "execution_count": 35,
   "id": "15890367",
   "metadata": {},
   "outputs": [
    {
     "data": {
      "text/html": [
       "<div>\n",
       "<style scoped>\n",
       "    .dataframe tbody tr th:only-of-type {\n",
       "        vertical-align: middle;\n",
       "    }\n",
       "\n",
       "    .dataframe tbody tr th {\n",
       "        vertical-align: top;\n",
       "    }\n",
       "\n",
       "    .dataframe thead th {\n",
       "        text-align: right;\n",
       "    }\n",
       "</style>\n",
       "<table border=\"1\" class=\"dataframe\">\n",
       "  <thead>\n",
       "    <tr style=\"text-align: right;\">\n",
       "      <th></th>\n",
       "      <th>InvoiceNo</th>\n",
       "      <th>CustomerID</th>\n",
       "      <th>StockCode</th>\n",
       "      <th>Description</th>\n",
       "      <th>Quantity</th>\n",
       "      <th>UnitPrice</th>\n",
       "      <th>Country</th>\n",
       "    </tr>\n",
       "  </thead>\n",
       "  <tbody>\n",
       "    <tr>\n",
       "      <th>0</th>\n",
       "      <td>536365</td>\n",
       "      <td>17850.0</td>\n",
       "      <td>85123A</td>\n",
       "      <td>WHITE HANGING HEART T-LIGHT HOLDER</td>\n",
       "      <td>6</td>\n",
       "      <td>2.55</td>\n",
       "      <td>United Kingdom</td>\n",
       "    </tr>\n",
       "    <tr>\n",
       "      <th>1</th>\n",
       "      <td>536365</td>\n",
       "      <td>17850.0</td>\n",
       "      <td>71053</td>\n",
       "      <td>WHITE METAL LANTERN</td>\n",
       "      <td>6</td>\n",
       "      <td>3.39</td>\n",
       "      <td>United Kingdom</td>\n",
       "    </tr>\n",
       "    <tr>\n",
       "      <th>2</th>\n",
       "      <td>536365</td>\n",
       "      <td>17850.0</td>\n",
       "      <td>84406B</td>\n",
       "      <td>CREAM CUPID HEARTS COAT HANGER</td>\n",
       "      <td>8</td>\n",
       "      <td>4.23</td>\n",
       "      <td>United Kingdom</td>\n",
       "    </tr>\n",
       "    <tr>\n",
       "      <th>3</th>\n",
       "      <td>536365</td>\n",
       "      <td>17850.0</td>\n",
       "      <td>84029G</td>\n",
       "      <td>KNITTED UNION FLAG HOT WATER BOTTLE</td>\n",
       "      <td>6</td>\n",
       "      <td>5.07</td>\n",
       "      <td>United Kingdom</td>\n",
       "    </tr>\n",
       "    <tr>\n",
       "      <th>4</th>\n",
       "      <td>536365</td>\n",
       "      <td>17850.0</td>\n",
       "      <td>84029E</td>\n",
       "      <td>RED WOOLLY HOTTIE WHITE HEART.</td>\n",
       "      <td>6</td>\n",
       "      <td>5.91</td>\n",
       "      <td>United Kingdom</td>\n",
       "    </tr>\n",
       "    <tr>\n",
       "      <th>...</th>\n",
       "      <td>...</td>\n",
       "      <td>...</td>\n",
       "      <td>...</td>\n",
       "      <td>...</td>\n",
       "      <td>...</td>\n",
       "      <td>...</td>\n",
       "      <td>...</td>\n",
       "    </tr>\n",
       "    <tr>\n",
       "      <th>4064</th>\n",
       "      <td>536390</td>\n",
       "      <td>17511.0</td>\n",
       "      <td>21485</td>\n",
       "      <td>RETROSPOT HEART HOT WATER BOTTLE</td>\n",
       "      <td>24</td>\n",
       "      <td>4.25</td>\n",
       "      <td>United Kingdom</td>\n",
       "    </tr>\n",
       "    <tr>\n",
       "      <th>4065</th>\n",
       "      <td>536390</td>\n",
       "      <td>17511.0</td>\n",
       "      <td>84029G</td>\n",
       "      <td>KNITTED UNION FLAG HOT WATER BOTTLE</td>\n",
       "      <td>24</td>\n",
       "      <td>3.39</td>\n",
       "      <td>United Kingdom</td>\n",
       "    </tr>\n",
       "    <tr>\n",
       "      <th>4066</th>\n",
       "      <td>536390</td>\n",
       "      <td>17511.0</td>\n",
       "      <td>84030E</td>\n",
       "      <td>ENGLISH ROSE HOT WATER BOTTLE</td>\n",
       "      <td>24</td>\n",
       "      <td>3.75</td>\n",
       "      <td>United Kingdom</td>\n",
       "    </tr>\n",
       "    <tr>\n",
       "      <th>4067</th>\n",
       "      <td>536390</td>\n",
       "      <td>17511.0</td>\n",
       "      <td>22174</td>\n",
       "      <td>PHOTO CUBE</td>\n",
       "      <td>48</td>\n",
       "      <td>1.48</td>\n",
       "      <td>United Kingdom</td>\n",
       "    </tr>\n",
       "    <tr>\n",
       "      <th>4068</th>\n",
       "      <td>536390</td>\n",
       "      <td>17511.0</td>\n",
       "      <td>22969</td>\n",
       "      <td>HOMEMADE JAM SCENTED CANDLES</td>\n",
       "      <td>96</td>\n",
       "      <td>1.25</td>\n",
       "      <td>United Kingdom</td>\n",
       "    </tr>\n",
       "  </tbody>\n",
       "</table>\n",
       "<p>4069 rows × 7 columns</p>\n",
       "</div>"
      ],
      "text/plain": [
       "     InvoiceNo  CustomerID StockCode                          Description  \\\n",
       "0       536365     17850.0    85123A   WHITE HANGING HEART T-LIGHT HOLDER   \n",
       "1       536365     17850.0     71053                  WHITE METAL LANTERN   \n",
       "2       536365     17850.0    84406B       CREAM CUPID HEARTS COAT HANGER   \n",
       "3       536365     17850.0    84029G  KNITTED UNION FLAG HOT WATER BOTTLE   \n",
       "4       536365     17850.0    84029E       RED WOOLLY HOTTIE WHITE HEART.   \n",
       "...        ...         ...       ...                                  ...   \n",
       "4064    536390     17511.0     21485     RETROSPOT HEART HOT WATER BOTTLE   \n",
       "4065    536390     17511.0    84029G  KNITTED UNION FLAG HOT WATER BOTTLE   \n",
       "4066    536390     17511.0    84030E        ENGLISH ROSE HOT WATER BOTTLE   \n",
       "4067    536390     17511.0     22174                           PHOTO CUBE   \n",
       "4068    536390     17511.0     22969         HOMEMADE JAM SCENTED CANDLES   \n",
       "\n",
       "      Quantity  UnitPrice         Country  \n",
       "0            6       2.55  United Kingdom  \n",
       "1            6       3.39  United Kingdom  \n",
       "2            8       4.23  United Kingdom  \n",
       "3            6       5.07  United Kingdom  \n",
       "4            6       5.91  United Kingdom  \n",
       "...        ...        ...             ...  \n",
       "4064        24       4.25  United Kingdom  \n",
       "4065        24       3.39  United Kingdom  \n",
       "4066        24       3.75  United Kingdom  \n",
       "4067        48       1.48  United Kingdom  \n",
       "4068        96       1.25  United Kingdom  \n",
       "\n",
       "[4069 rows x 7 columns]"
      ]
     },
     "execution_count": 35,
     "metadata": {},
     "output_type": "execute_result"
    }
   ],
   "source": [
    "pd.merge(df2,df1,on =\"InvoiceNo\",how = \"inner\" ) # same columns from both data sets were meged"
   ]
  },
  {
   "cell_type": "code",
   "execution_count": null,
   "id": "fcb9a08c",
   "metadata": {},
   "outputs": [],
   "source": []
  }
 ],
 "metadata": {
  "kernelspec": {
   "display_name": "Python 3 (ipykernel)",
   "language": "python",
   "name": "python3"
  },
  "language_info": {
   "codemirror_mode": {
    "name": "ipython",
    "version": 3
   },
   "file_extension": ".py",
   "mimetype": "text/x-python",
   "name": "python",
   "nbconvert_exporter": "python",
   "pygments_lexer": "ipython3",
   "version": "3.11.4"
  }
 },
 "nbformat": 4,
 "nbformat_minor": 5
}
